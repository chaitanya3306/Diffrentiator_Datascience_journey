import pandas as pd






filepath='data/retail_sales.csv'
df=pd.read_csv(filepath)



# shape and the columns:
print("shape",df.shape)
print('Cloumns :',df.columns.tolist())





# data info:
df.info()


# few rows:
df.head()


# summary statistics:
df.describe(include='all')



