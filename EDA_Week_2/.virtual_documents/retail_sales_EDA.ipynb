import pandas as pd






filepath='data/retail_sales.csv'
df=pd.read_csv(filepath)



# shape and the columns:
print("shape",df.shape)
print('Cloumns :',df.columns.tolist())





# data info:
df.info()


# few rows:
df.head()


# summary statistics:
df.describe(include='all')





# check for missing values
df.isnull().sum()


'No missing values'


# remove duplicates
df.duplicated().sum()


'No duplicated values here'


# standardize columns

# Convert 'Order Date' to datetime
df['Order Date']=pd.to_datetime(df['Order Date'])

# stripping and standardizing the column strings
df['Customer Name']=df['Customer Name'].str.strip().str.title()
df['Region']=df['Region'].str.strip().str.title()
df['Product Category']=df['Product Category'].str.strip().str.title()

# droping the duplicated values if exists:
df=df.drop_duplicates()









# converting the dataset to csv file:

df.to_csv('cleaned.csv',index=False)



