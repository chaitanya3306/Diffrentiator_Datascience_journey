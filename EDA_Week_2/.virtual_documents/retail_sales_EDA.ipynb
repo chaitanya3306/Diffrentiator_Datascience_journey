import pandas as pd
import numpy as np
import matplotlib.pyplot as plt
import seaborn as sns






filepath='data/retail_sales.csv'
df=pd.read_csv(filepath)



# shape and the columns:
print("shape",df.shape)
print('Cloumns :',df.columns.tolist())





# data info:
df.info()


# few rows:
df





# check for missing values
df.isnull().sum()


'No missing values'


# remove duplicates
df.duplicated().sum()


'No duplicated values here'


# standardize columns

# Convert 'Order Date' to datetime
df['Order Date']=pd.to_datetime(df['Order Date'],errors='coerce')

# stripping and standardizing the column strings
df['Customer Name']=df['Customer Name'].str.strip().str.title()
df['Region']=df['Region'].str.strip().str.title()
df['Product Category']=df['Product Category'].str.strip().str.title()

# droping the duplicated values if exists:
df=df.drop_duplicates()









# converting the dataset to csv file:

df.to_csv('cleaned.csv',index=False)





df.head()


# numerical values and their counts:

# preparing the data:
numerical_cols=['Sales','Profit','Discount']

for cols in numerical_cols:
    plt.figure(figsize=(6,4))
    sns.histplot(data=df[cols],kde=True)
    plt.title(f'{cols} Count',fontsize=18,weight='bold')
    print("\n")
    plt.grid( axis='both', alpha=0.3)
    plt.tight_layout()
    plt.show()
    






# for categorical values:

categeorical_cols=['Region','Product Category']

for cols in categeorical_cols:
    plt.figure(figsize=(6,4))
    sns.histplot(data=df[cols],kde=True)
    
    plt.title(f'{cols} Count',fontsize=18,weight='bold')
    print("\n")
    plt.grid( axis='both', alpha=0.3)
    plt.tight_layout()
    plt.show()
    










df.head()


# region vs sales

plt.figure(figsize=(10,6))

df=df.sort_values(by='Sales')

barplot=sns.barplot(data=df,x="Region",y="Sales")

for p in barplot.patches:
    barplot.annotate(format(p.get_height()+0.5, '.2f'),  
                     (p.get_x() + p.get_width() / 2., p.get_height()),  
                     ha='center', va='bottom', fontsize=9, color='black')

    
plt.title('Regions vs Sales',fontsize=18,weight='bold')
plt.xlabel('Regions',fontsize=15)
plt.ylabel('Sales',fontsize=15)
plt.xticks(fontsize=10,ha='right')
plt.yticks(fontsize=12)
plt.grid( axis='both',linestyle='--', alpha=0.1)
plt.tight_layout()
plt.show()


# region vs profit
plt.figure(figsize=(10,6))
barplot=sns.barplot(data=df,x='Region',y='Profit')

for p in barplot.patches:
    barplot.annotate(format(p.get_height(), '.1f'),  
                     (p.get_x() + p.get_width() / 2., p.get_height()),  
                     ha='center', va='bottom', fontsize=9, color='black')


plt.title('profit across regions',fontsize=18,weight='bold')
plt.xlabel('Regions',fontsize=15)
plt.ylabel('Profit',fontsize=15)
plt.xticks(fontsize=10,ha='right')
plt.yticks(fontsize=12)
plt.grid( axis='both',linestyle='--', alpha=0.1)
plt.tight_layout()
plt.show()



# product categeory vs profit
# region vs sales

plt.figure(figsize=(10,10))



barplot=sns.barplot(data=df,x="Product Category",y="Profit")

for p in barplot.patches:
    barplot.annotate(format(p.get_height()+0.5, '.2f'),  
                     (p.get_x() + p.get_width() / 2., p.get_height()),  
                     ha='center', va='bottom', fontsize=9, color='black')

    
plt.title('Product Category vs Profit',fontsize=18,weight='bold')
plt.xlabel('Category',fontsize=15)
plt.ylabel('Profit',fontsize=15)
plt.xticks(fontsize=10,ha='right')
plt.yticks(fontsize=12)
plt.grid( axis='both',linestyle='--', alpha=0.1)
plt.tight_layout()
plt.show()


#discount vs Profit:
plt.figure(figsize=(10,6))
barplot=sns.barplot(data=df,x='Discount',y='Profit')
for p in barplot.patches:
    barplot.annotate(format(p.get_height()+0.5, '.2f'),  
                     (p.get_x() + p.get_width() / 2., p.get_height()),  
                     ha='center', va='bottom', fontsize=9, color='black')
plt.title('discount vs Profit',fontsize=18,weight='bold')
plt.xlabel('Discount',fontsize=15)
plt.ylabel('Profit',fontsize=15)
plt.xticks(fontsize=10,ha='right')
plt.yticks(fontsize=12)
plt.grid( axis='both',linestyle='--', alpha=0.3)
plt.tight_layout()
plt.show()






df.head()


# Calculate correlation
corr_matrix = df.corr(numeric_only=True)

# Mask for upper triangle
mask = np.triu(np.ones_like(corr_matrix, dtype=bool))

# Pro-level heatmap
plt.figure(figsize=(8,6))
sns.heatmap(corr_matrix, mask=mask, annot=True, cmap="coolwarm", center=0, linewidths=.5)
plt.title("Correlation Matrix with Upper Triangle Mask", fontsize=14)
plt.show()





sns.pairplot(df[['Sales', 'Profit', 'Discount', 'Region']], hue='Region', diag_kind='hist')
plt.suptitle("Pairplot of Sales, Profit, Discount by Region", y=1.02)
plt.show()


region_category_counts = df.groupby(['Region','Product Category']).size().unstack().fillna(0)
region_category_counts.plot(kind='bar', stacked=True, figsize=(8,5))
plt.title("Stacked Bar: Region vs Product Category")
plt.ylabel("Count")
plt.show()


# finding outliers
def outliers_IQR(col):
    Q1=df[col].quantile(0.25)
    Q3=df[col].quantile(0.75)
    IQR=Q3-Q1

    lower_b=Q1-1.5*IQR
    upper_b=Q3+1.5*IQR

    outliers_iqr=df[(df[col]<lower_b) | (df[col]>upper_b)]

    return outliers_iqr


# outlires of profit:
print(outliers_IQR('Sales'))


# there is no outlires in this cause its basic practice dataset 










