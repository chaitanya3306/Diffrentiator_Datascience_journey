{
 "cells": [
  {
   "cell_type": "code",
   "execution_count": 1,
   "id": "349a6622-8437-40ea-84a0-74b02afe9051",
   "metadata": {},
   "outputs": [],
   "source": [
    "import pandas as pd\n",
    "import numpy as np\n",
    "import matplotlib.pyplot as plt\n",
    "import seaborn as sns"
   ]
  },
  {
   "cell_type": "markdown",
   "id": "52ae9528-cc9f-4f84-a34c-41e5f75f0e19",
   "metadata": {},
   "source": [
    "# loading the dataset:"
   ]
  },
  {
   "cell_type": "code",
   "execution_count": 2,
   "id": "e1e28d5c-29c4-4252-9d9a-bc371e952104",
   "metadata": {},
   "outputs": [],
   "source": [
    "\n",
    "filepath='data/retail_sales.csv'\n",
    "df=pd.read_csv(filepath)\n"
   ]
  },
  {
   "cell_type": "code",
   "execution_count": 3,
   "id": "443e9132-a073-4dab-8696-b0beaf7d6e23",
   "metadata": {
    "jupyter": {
     "source_hidden": true
    }
   },
   "outputs": [
    {
     "name": "stdout",
     "output_type": "stream",
     "text": [
      "shape (5, 8)\n",
      "Cloumns : ['Order ID', 'Order Date', 'Customer Name', 'Region', 'Product Category', 'Sales', 'Discount', 'Profit']\n"
     ]
    }
   ],
   "source": [
    "# shape and the columns:\n",
    "print(\"shape\",df.shape)\n",
    "print('Cloumns :',df.columns.tolist())"
   ]
  },
  {
   "cell_type": "markdown",
   "id": "1c8ad8c5-b9dd-4667-ab2b-f30715c9f3f5",
   "metadata": {},
   "source": [
    "# quick overview of the data:"
   ]
  },
  {
   "cell_type": "code",
   "execution_count": 4,
   "id": "0ff8333e-1741-41d4-b95d-b2cd91015203",
   "metadata": {},
   "outputs": [
    {
     "name": "stdout",
     "output_type": "stream",
     "text": [
      "<class 'pandas.core.frame.DataFrame'>\n",
      "RangeIndex: 5 entries, 0 to 4\n",
      "Data columns (total 8 columns):\n",
      " #   Column            Non-Null Count  Dtype  \n",
      "---  ------            --------------  -----  \n",
      " 0   Order ID          5 non-null      int64  \n",
      " 1   Order Date        5 non-null      object \n",
      " 2   Customer Name     5 non-null      object \n",
      " 3   Region            5 non-null      object \n",
      " 4   Product Category  5 non-null      object \n",
      " 5   Sales             5 non-null      float64\n",
      " 6   Discount          5 non-null      float64\n",
      " 7   Profit            5 non-null      float64\n",
      "dtypes: float64(3), int64(1), object(4)\n",
      "memory usage: 452.0+ bytes\n"
     ]
    }
   ],
   "source": [
    "# data info:\n",
    "df.info()"
   ]
  },
  {
   "cell_type": "code",
   "execution_count": 5,
   "id": "cba3bae8-3d4d-403a-973a-1e36a281a331",
   "metadata": {},
   "outputs": [
    {
     "data": {
      "text/html": [
       "<div>\n",
       "<style scoped>\n",
       "    .dataframe tbody tr th:only-of-type {\n",
       "        vertical-align: middle;\n",
       "    }\n",
       "\n",
       "    .dataframe tbody tr th {\n",
       "        vertical-align: top;\n",
       "    }\n",
       "\n",
       "    .dataframe thead th {\n",
       "        text-align: right;\n",
       "    }\n",
       "</style>\n",
       "<table border=\"1\" class=\"dataframe\">\n",
       "  <thead>\n",
       "    <tr style=\"text-align: right;\">\n",
       "      <th></th>\n",
       "      <th>Order ID</th>\n",
       "      <th>Order Date</th>\n",
       "      <th>Customer Name</th>\n",
       "      <th>Region</th>\n",
       "      <th>Product Category</th>\n",
       "      <th>Sales</th>\n",
       "      <th>Discount</th>\n",
       "      <th>Profit</th>\n",
       "    </tr>\n",
       "  </thead>\n",
       "  <tbody>\n",
       "    <tr>\n",
       "      <th>0</th>\n",
       "      <td>1001</td>\n",
       "      <td>10-01-2025</td>\n",
       "      <td>Alice Smith</td>\n",
       "      <td>East</td>\n",
       "      <td>Furniture</td>\n",
       "      <td>250.75</td>\n",
       "      <td>0.10</td>\n",
       "      <td>50.15</td>\n",
       "    </tr>\n",
       "    <tr>\n",
       "      <th>1</th>\n",
       "      <td>1002</td>\n",
       "      <td>15-01-2025</td>\n",
       "      <td>Bob Johnson</td>\n",
       "      <td>West</td>\n",
       "      <td>Technology</td>\n",
       "      <td>550.00</td>\n",
       "      <td>0.20</td>\n",
       "      <td>100.00</td>\n",
       "    </tr>\n",
       "    <tr>\n",
       "      <th>2</th>\n",
       "      <td>1003</td>\n",
       "      <td>01-02-2025</td>\n",
       "      <td>Charlie Lee</td>\n",
       "      <td>East</td>\n",
       "      <td>Office Supplies</td>\n",
       "      <td>120.40</td>\n",
       "      <td>0.00</td>\n",
       "      <td>30.10</td>\n",
       "    </tr>\n",
       "    <tr>\n",
       "      <th>3</th>\n",
       "      <td>1004</td>\n",
       "      <td>05-02-2025</td>\n",
       "      <td>David Wilson</td>\n",
       "      <td>South</td>\n",
       "      <td>Furniture</td>\n",
       "      <td>300.50</td>\n",
       "      <td>0.15</td>\n",
       "      <td>45.20</td>\n",
       "    </tr>\n",
       "    <tr>\n",
       "      <th>4</th>\n",
       "      <td>1005</td>\n",
       "      <td>10-02-2025</td>\n",
       "      <td>Eva Brown</td>\n",
       "      <td>North</td>\n",
       "      <td>Technology</td>\n",
       "      <td>800.20</td>\n",
       "      <td>0.05</td>\n",
       "      <td>120.00</td>\n",
       "    </tr>\n",
       "  </tbody>\n",
       "</table>\n",
       "</div>"
      ],
      "text/plain": [
       "   Order ID  Order Date Customer Name Region Product Category   Sales  \\\n",
       "0      1001  10-01-2025   Alice Smith   East        Furniture  250.75   \n",
       "1      1002  15-01-2025   Bob Johnson   West       Technology  550.00   \n",
       "2      1003  01-02-2025   Charlie Lee   East  Office Supplies  120.40   \n",
       "3      1004  05-02-2025  David Wilson  South        Furniture  300.50   \n",
       "4      1005  10-02-2025     Eva Brown  North       Technology  800.20   \n",
       "\n",
       "   Discount  Profit  \n",
       "0      0.10   50.15  \n",
       "1      0.20  100.00  \n",
       "2      0.00   30.10  \n",
       "3      0.15   45.20  \n",
       "4      0.05  120.00  "
      ]
     },
     "execution_count": 5,
     "metadata": {},
     "output_type": "execute_result"
    }
   ],
   "source": [
    "# few rows:\n",
    "df"
   ]
  },
  {
   "cell_type": "markdown",
   "id": "b7aec1b5-9330-45b0-833c-f8f1eaa6bf98",
   "metadata": {},
   "source": [
    "# making cleaned version of csv"
   ]
  },
  {
   "cell_type": "code",
   "execution_count": 6,
   "id": "5b8f93aa-907b-438d-a7c9-7474f11f7a49",
   "metadata": {},
   "outputs": [
    {
     "data": {
      "text/plain": [
       "Order ID            0\n",
       "Order Date          0\n",
       "Customer Name       0\n",
       "Region              0\n",
       "Product Category    0\n",
       "Sales               0\n",
       "Discount            0\n",
       "Profit              0\n",
       "dtype: int64"
      ]
     },
     "execution_count": 6,
     "metadata": {},
     "output_type": "execute_result"
    }
   ],
   "source": [
    "# check for missing values\n",
    "df.isnull().sum()"
   ]
  },
  {
   "cell_type": "code",
   "execution_count": 7,
   "id": "4ba011e0-9dd3-4639-ac2c-5bc64847dabc",
   "metadata": {},
   "outputs": [
    {
     "data": {
      "text/plain": [
       "'No missing values'"
      ]
     },
     "execution_count": 7,
     "metadata": {},
     "output_type": "execute_result"
    }
   ],
   "source": [
    "'No missing values'"
   ]
  },
  {
   "cell_type": "code",
   "execution_count": 8,
   "id": "c204d02f-e9b4-4769-ba0e-5bd7f627c04d",
   "metadata": {},
   "outputs": [
    {
     "data": {
      "text/plain": [
       "np.int64(0)"
      ]
     },
     "execution_count": 8,
     "metadata": {},
     "output_type": "execute_result"
    }
   ],
   "source": [
    "# remove duplicates\n",
    "df.duplicated().sum()"
   ]
  },
  {
   "cell_type": "code",
   "execution_count": 9,
   "id": "89156be4-c402-4597-ae1c-96e8e5dbc499",
   "metadata": {},
   "outputs": [
    {
     "data": {
      "text/plain": [
       "'No duplicated values here'"
      ]
     },
     "execution_count": 9,
     "metadata": {},
     "output_type": "execute_result"
    }
   ],
   "source": [
    "'No duplicated values here'"
   ]
  },
  {
   "cell_type": "code",
   "execution_count": 12,
   "id": "a60f9ba4-2e64-40fd-bf73-00e5282becc7",
   "metadata": {},
   "outputs": [],
   "source": [
    "# standardize columns\n",
    "\n",
    "# Convert 'Order Date' to datetime\n",
    "df['Order Date']=pd.to_datetime(df['Order Date'],errors='coerce')\n",
    "\n",
    "# stripping and standardizing the column strings\n",
    "df['Customer Name']=df['Customer Name'].str.strip().str.title()\n",
    "df['Region']=df['Region'].str.strip().str.title()\n",
    "df['Product Category']=df['Product Category'].str.strip().str.title()\n",
    "\n",
    "# droping the duplicated values if exists:\n",
    "df=df.drop_duplicates()\n",
    "\n",
    "\n",
    "\n"
   ]
  },
  {
   "cell_type": "code",
   "execution_count": null,
   "id": "744ec8fe-4061-4e95-b2c7-788be5c6ad23",
   "metadata": {},
   "outputs": [],
   "source": []
  },
  {
   "cell_type": "code",
   "execution_count": 13,
   "id": "0893d244-aad4-42c8-92f3-77facf4b49f6",
   "metadata": {},
   "outputs": [],
   "source": [
    "# converting the dataset to csv file:\n",
    "\n",
    "df.to_csv('cleaned.csv',index=False)"
   ]
  },
  {
   "cell_type": "markdown",
   "id": "9f01a632-f124-4ae0-b297-36bf5392aad1",
   "metadata": {},
   "source": [
    "# Univariate Analysis"
   ]
  },
  {
   "cell_type": "code",
   "execution_count": 14,
   "id": "26f140aa-e8b6-4334-8b76-8cbdd4f07b41",
   "metadata": {},
   "outputs": [
    {
     "data": {
      "text/html": [
       "<div>\n",
       "<style scoped>\n",
       "    .dataframe tbody tr th:only-of-type {\n",
       "        vertical-align: middle;\n",
       "    }\n",
       "\n",
       "    .dataframe tbody tr th {\n",
       "        vertical-align: top;\n",
       "    }\n",
       "\n",
       "    .dataframe thead th {\n",
       "        text-align: right;\n",
       "    }\n",
       "</style>\n",
       "<table border=\"1\" class=\"dataframe\">\n",
       "  <thead>\n",
       "    <tr style=\"text-align: right;\">\n",
       "      <th></th>\n",
       "      <th>Order ID</th>\n",
       "      <th>Order Date</th>\n",
       "      <th>Customer Name</th>\n",
       "      <th>Region</th>\n",
       "      <th>Product Category</th>\n",
       "      <th>Sales</th>\n",
       "      <th>Discount</th>\n",
       "      <th>Profit</th>\n",
       "    </tr>\n",
       "  </thead>\n",
       "  <tbody>\n",
       "    <tr>\n",
       "      <th>0</th>\n",
       "      <td>1001</td>\n",
       "      <td>2025-10-01</td>\n",
       "      <td>Alice Smith</td>\n",
       "      <td>East</td>\n",
       "      <td>Furniture</td>\n",
       "      <td>250.75</td>\n",
       "      <td>0.10</td>\n",
       "      <td>50.15</td>\n",
       "    </tr>\n",
       "    <tr>\n",
       "      <th>1</th>\n",
       "      <td>1002</td>\n",
       "      <td>NaT</td>\n",
       "      <td>Bob Johnson</td>\n",
       "      <td>West</td>\n",
       "      <td>Technology</td>\n",
       "      <td>550.00</td>\n",
       "      <td>0.20</td>\n",
       "      <td>100.00</td>\n",
       "    </tr>\n",
       "    <tr>\n",
       "      <th>2</th>\n",
       "      <td>1003</td>\n",
       "      <td>2025-01-02</td>\n",
       "      <td>Charlie Lee</td>\n",
       "      <td>East</td>\n",
       "      <td>Office Supplies</td>\n",
       "      <td>120.40</td>\n",
       "      <td>0.00</td>\n",
       "      <td>30.10</td>\n",
       "    </tr>\n",
       "    <tr>\n",
       "      <th>3</th>\n",
       "      <td>1004</td>\n",
       "      <td>2025-05-02</td>\n",
       "      <td>David Wilson</td>\n",
       "      <td>South</td>\n",
       "      <td>Furniture</td>\n",
       "      <td>300.50</td>\n",
       "      <td>0.15</td>\n",
       "      <td>45.20</td>\n",
       "    </tr>\n",
       "    <tr>\n",
       "      <th>4</th>\n",
       "      <td>1005</td>\n",
       "      <td>2025-10-02</td>\n",
       "      <td>Eva Brown</td>\n",
       "      <td>North</td>\n",
       "      <td>Technology</td>\n",
       "      <td>800.20</td>\n",
       "      <td>0.05</td>\n",
       "      <td>120.00</td>\n",
       "    </tr>\n",
       "  </tbody>\n",
       "</table>\n",
       "</div>"
      ],
      "text/plain": [
       "   Order ID Order Date Customer Name Region Product Category   Sales  \\\n",
       "0      1001 2025-10-01   Alice Smith   East        Furniture  250.75   \n",
       "1      1002        NaT   Bob Johnson   West       Technology  550.00   \n",
       "2      1003 2025-01-02   Charlie Lee   East  Office Supplies  120.40   \n",
       "3      1004 2025-05-02  David Wilson  South        Furniture  300.50   \n",
       "4      1005 2025-10-02     Eva Brown  North       Technology  800.20   \n",
       "\n",
       "   Discount  Profit  \n",
       "0      0.10   50.15  \n",
       "1      0.20  100.00  \n",
       "2      0.00   30.10  \n",
       "3      0.15   45.20  \n",
       "4      0.05  120.00  "
      ]
     },
     "execution_count": 14,
     "metadata": {},
     "output_type": "execute_result"
    }
   ],
   "source": [
    "df.head()"
   ]
  },
  {
   "cell_type": "code",
   "execution_count": 15,
   "id": "a5816273-b5b3-4e13-a896-a24257ce3d86",
   "metadata": {},
   "outputs": [
    {
     "name": "stdout",
     "output_type": "stream",
     "text": [
      "\n",
      "\n"
     ]
    },
    {
     "data": {
      "image/png": "[encoded data removed]",
      "text/plain": [
       "<Figure size 600x400 with 1 Axes>"
      ]
     },
     "metadata": {},
     "output_type": "display_data"
    },
    {
     "name": "stdout",
     "output_type": "stream",
     "text": [
      "\n",
      "\n"
     ]
    },
    {
     "data": {
      "image/png": "[encoded data removed]",
      "text/plain": [
       "<Figure size 600x400 with 1 Axes>"
      ]
     },
     "metadata": {},
     "output_type": "display_data"
    },
    {
     "name": "stdout",
     "output_type": "stream",
     "text": [
      "\n",
      "\n"
     ]
    },
    {
     "data": {
      "image/png": "[encoded data removed]",
      "text/plain": [
       "<Figure size 600x400 with 1 Axes>"
      ]
     },
     "metadata": {},
     "output_type": "display_data"
    }
   ],
   "source": [
    "# numerical values and their counts:\n",
    "\n",
    "# preparing the data:\n",
    "numerical_cols=['Sales','Profit','Discount']\n",
    "\n",
    "for cols in numerical_cols:\n",
    "    plt.figure(figsize=(6,4))\n",
    "    sns.histplot(data=df[cols],kde=True)\n",
    "    plt.title(f'{cols} Count',fontsize=18,weight='bold')\n",
    "    print(\"\\n\")\n",
    "    plt.grid( axis='both', alpha=0.3)\n",
    "    plt.tight_layout()\n",
    "    plt.show()\n",
    "    \n",
    "\n",
    "\n",
    "\n"
   ]
  },
  {
   "cell_type": "code",
   "execution_count": null,
   "id": "745b527a-3a4d-4025-bd9e-7296b85b14c1",
   "metadata": {},
   "outputs": [
    {
     "name": "stdout",
     "output_type": "stream",
     "text": [
      "\n",
      "\n"
     ]
    }
   ],
   "source": [
    "# for categorical values:\n",
    "\n",
    "categeorical_cols=['Region','Product Category']\n",
    "\n",
    "for cols in categeorical_cols:\n",
    "    plt.figure(figsize=(6,4))\n",
    "    sns.histplot(data=df[cols],kde=True)\n",
    "    \n",
    "    plt.title(f'{cols} Count',fontsize=18,weight='bold')\n",
    "    print(\"\\n\")\n",
    "    plt.grid( axis='both', alpha=0.3)\n",
    "    plt.tight_layout()\n",
    "    plt.show()\n",
    "    \n",
    "\n"
   ]
  },
  {
   "cell_type": "markdown",
   "id": "7bf2a365-7829-4c1e-85ea-13b202a8de76",
   "metadata": {},
   "source": []
  },
  {
   "cell_type": "markdown",
   "id": "ae47daa5-ce11-4403-b91a-6ec7d0ffd9ee",
   "metadata": {},
   "source": [
    "# Bivariate Analysis"
   ]
  },
  {
   "cell_type": "code",
   "execution_count": null,
   "id": "878ed71a-2bed-474c-ba1a-756083e8254b",
   "metadata": {},
   "outputs": [],
   "source": [
    "df.head()"
   ]
  },
  {
   "cell_type": "code",
   "execution_count": null,
   "id": "153e763f-4aa9-4fb3-9594-76e2dc5c0543",
   "metadata": {},
   "outputs": [],
   "source": [
    "# region vs sales\n",
    "\n",
    "plt.figure(figsize=(10,6))\n",
    "\n",
    "df=df.sort_values(by='Sales')\n",
    "\n",
    "barplot=sns.barplot(data=df,x=\"Region\",y=\"Sales\")\n",
    "\n",
    "for p in barplot.patches:\n",
    "    barplot.annotate(format(p.get_height()+0.5, '.2f'),  \n",
    "                     (p.get_x() + p.get_width() / 2., p.get_height()),  \n",
    "                     ha='center', va='bottom', fontsize=9, color='black')\n",
    "\n",
    "    \n",
    "plt.title('Regions vs Sales',fontsize=18,weight='bold')\n",
    "plt.xlabel('Regions',fontsize=15)\n",
    "plt.ylabel('Sales',fontsize=15)\n",
    "plt.xticks(fontsize=10,ha='right')\n",
    "plt.yticks(fontsize=12)\n",
    "plt.grid( axis='both',linestyle='--', alpha=0.1)\n",
    "plt.tight_layout()\n",
    "plt.show()"
   ]
  },
  {
   "cell_type": "code",
   "execution_count": null,
   "id": "e3a285ce-3a44-4215-86cf-c33183846c60",
   "metadata": {},
   "outputs": [],
   "source": [
    "# region vs profit\n",
    "plt.figure(figsize=(10,6))\n",
    "barplot=sns.barplot(data=df,x='Region',y='Profit')\n",
    "\n",
    "for p in barplot.patches:\n",
    "    barplot.annotate(format(p.get_height(), '.1f'),  \n",
    "                     (p.get_x() + p.get_width() / 2., p.get_height()),  \n",
    "                     ha='center', va='bottom', fontsize=9, color='black')\n",
    "\n",
    "\n",
    "plt.title('profit across regions',fontsize=18,weight='bold')\n",
    "plt.xlabel('Regions',fontsize=15)\n",
    "plt.ylabel('Profit',fontsize=15)\n",
    "plt.xticks(fontsize=10,ha='right')\n",
    "plt.yticks(fontsize=12)\n",
    "plt.grid( axis='both',linestyle='--', alpha=0.1)\n",
    "plt.tight_layout()\n",
    "plt.show()\n"
   ]
  },
  {
   "cell_type": "code",
   "execution_count": null,
   "id": "038f8303-be22-4b0f-90fd-fe8864e2c9dd",
   "metadata": {},
   "outputs": [],
   "source": [
    "# product categeory vs profit\n",
    "# region vs sales\n",
    "\n",
    "plt.figure(figsize=(10,10))\n",
    "\n",
    "\n",
    "\n",
    "barplot=sns.barplot(data=df,x=\"Product Category\",y=\"Profit\")\n",
    "\n",
    "for p in barplot.patches:\n",
    "    barplot.annotate(format(p.get_height()+0.5, '.2f'),  \n",
    "                     (p.get_x() + p.get_width() / 2., p.get_height()),  \n",
    "                     ha='center', va='bottom', fontsize=9, color='black')\n",
    "\n",
    "    \n",
    "plt.title('Product Category vs Profit',fontsize=18,weight='bold')\n",
    "plt.xlabel('Category',fontsize=15)\n",
    "plt.ylabel('Profit',fontsize=15)\n",
    "plt.xticks(fontsize=10,ha='right')\n",
    "plt.yticks(fontsize=12)\n",
    "plt.grid( axis='both',linestyle='--', alpha=0.1)\n",
    "plt.tight_layout()\n",
    "plt.show()"
   ]
  },
  {
   "cell_type": "code",
   "execution_count": null,
   "id": "0edf5a79-7668-489a-8bf0-6443e34ff201",
   "metadata": {},
   "outputs": [],
   "source": [
    "#discount vs Profit:\n",
    "plt.figure(figsize=(10,6))\n",
    "barplot=sns.barplot(data=df,x='Discount',y='Profit')\n",
    "for p in barplot.patches:\n",
    "    barplot.annotate(format(p.get_height()+0.5, '.2f'),  \n",
    "                     (p.get_x() + p.get_width() / 2., p.get_height()),  \n",
    "                     ha='center', va='bottom', fontsize=9, color='black')\n",
    "plt.title('discount vs Profit',fontsize=18,weight='bold')\n",
    "plt.xlabel('Discount',fontsize=15)\n",
    "plt.ylabel('Profit',fontsize=15)\n",
    "plt.xticks(fontsize=10,ha='right')\n",
    "plt.yticks(fontsize=12)\n",
    "plt.grid( axis='both',linestyle='--', alpha=0.3)\n",
    "plt.tight_layout()\n",
    "plt.show()\n"
   ]
  },
  {
   "cell_type": "markdown",
   "id": "5ef2da90-b6d3-42bd-b174-511ea44a136a",
   "metadata": {},
   "source": [
    "# Multivariate Analysis"
   ]
  },
  {
   "cell_type": "code",
   "execution_count": null,
   "id": "66efbb45-b328-4e9e-bdeb-a8cc1c8311e7",
   "metadata": {},
   "outputs": [],
   "source": [
    "df.head()"
   ]
  },
  {
   "cell_type": "code",
   "execution_count": null,
   "id": "06172c8b-71bb-43ce-918c-fb9f4575c5f5",
   "metadata": {
    "scrolled": true
   },
   "outputs": [],
   "source": [
    "# Calculate correlation\n",
    "corr_matrix = df.corr(numeric_only=True)\n",
    "\n",
    "# Mask for upper triangle\n",
    "mask = np.triu(np.ones_like(corr_matrix, dtype=bool))\n",
    "\n",
    "# Pro-level heatmap\n",
    "plt.figure(figsize=(8,6))\n",
    "sns.heatmap(corr_matrix, mask=mask, annot=True, cmap=\"coolwarm\", center=0, linewidths=.5)\n",
    "plt.title(\"Correlation Matrix with Upper Triangle Mask\", fontsize=14)\n",
    "plt.show()"
   ]
  },
  {
   "cell_type": "markdown",
   "id": "c3f1c3aa-8a74-4ede-9e68-c68867f8fca6",
   "metadata": {},
   "source": [
    "High sales are strongly tied to higher profits, meaning discounting hasn’t significantly eaten into margins.\n",
    "\n",
    "Negative correlation between Order ID and Discount suggests newer orders may include more discount offers.\n",
    "\n"
   ]
  },
  {
   "cell_type": "code",
   "execution_count": null,
   "id": "8cbfb027-7228-4e80-93bd-4d70a2cbdfa6",
   "metadata": {},
   "outputs": [],
   "source": [
    "sns.pairplot(df[['Sales', 'Profit', 'Discount', 'Region']], hue='Region', diag_kind='hist')\n",
    "plt.suptitle(\"Pairplot of Sales, Profit, Discount by Region\", y=1.02)\n",
    "plt.show()"
   ]
  },
  {
   "cell_type": "code",
   "execution_count": null,
   "id": "a601bc47-1fee-4c65-be78-211440606e3e",
   "metadata": {},
   "outputs": [],
   "source": [
    "region_category_counts = df.groupby(['Region','Product Category']).size().unstack().fillna(0)\n",
    "region_category_counts.plot(kind='bar', stacked=True, figsize=(8,5))\n",
    "plt.title(\"Stacked Bar: Region vs Product Category\")\n",
    "plt.ylabel(\"Count\")\n",
    "plt.show()"
   ]
  },
  {
   "cell_type": "code",
   "execution_count": null,
   "id": "c0acd3c5-dc43-4cb9-a012-0ecdaefb98a7",
   "metadata": {},
   "outputs": [],
   "source": [
    "# finding outliers\n",
    "def outliers_IQR(col):\n",
    "    Q1=df[col].quantile(0.25)\n",
    "    Q3=df[col].quantile(0.75)\n",
    "    IQR=Q3-Q1\n",
    "\n",
    "    lower_b=Q1-1.5*IQR\n",
    "    upper_b=Q3+1.5*IQR\n",
    "\n",
    "    outliers_iqr=df[(df[col]<lower_b) | (df[col]>upper_b)]\n",
    "\n",
    "    return outliers_iqr"
   ]
  },
  {
   "cell_type": "code",
   "execution_count": null,
   "id": "075937aa-e7d9-4ce2-a4fc-892fc18edc51",
   "metadata": {},
   "outputs": [],
   "source": [
    "# outlires of profit:\n",
    "print(outliers_IQR('Sales'))"
   ]
  },
  {
   "cell_type": "code",
   "execution_count": null,
   "id": "8fab4d92-7072-47c4-8d35-9d368787314a",
   "metadata": {},
   "outputs": [],
   "source": [
    "# there is no outlires in this cause its basic practice dataset "
   ]
  },
  {
   "cell_type": "markdown",
   "id": "82ddb094-081b-4d78-be34-11a3c27418c5",
   "metadata": {},
   "source": [
    "Never remove outliers blindly — always tie decisions to business logic + data patterns.\n",
    "\n"
   ]
  },
  {
   "cell_type": "code",
   "execution_count": null,
   "id": "f9293d6c-54e0-4c1e-9988-2cd39596d200",
   "metadata": {},
   "outputs": [],
   "source": []
  }
 ],
 "metadata": {
  "kernelspec": {
   "display_name": "Python 3 (ipykernel)",
   "language": "python",
   "name": "python3"
  },
  "language_info": {
   "codemirror_mode": {
    "name": "ipython",
    "version": 3
   },
   "file_extension": ".py",
   "mimetype": "text/x-python",
   "name": "python",
   "nbconvert_exporter": "python",
   "pygments_lexer": "ipython3",
   "version": "3.13.3"
  }
 },
 "nbformat": 4,
 "nbformat_minor": 5
}
