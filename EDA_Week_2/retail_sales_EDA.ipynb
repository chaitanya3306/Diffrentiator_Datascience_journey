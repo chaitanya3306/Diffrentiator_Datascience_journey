{
 "cells": [
  {
   "cell_type": "code",
   "execution_count": 38,
   "id": "349a6622-8437-40ea-84a0-74b02afe9051",
   "metadata": {},
   "outputs": [],
   "source": [
    "import pandas as pd\n",
    "import numpy as np\n",
    "import matplotlib.pyplot as plt\n",
    "import seaborn as sns"
   ]
  },
  {
   "cell_type": "markdown",
   "id": "52ae9528-cc9f-4f84-a34c-41e5f75f0e19",
   "metadata": {},
   "source": [
    "# loading the dataset:"
   ]
  },
  {
   "cell_type": "code",
   "execution_count": 39,
   "id": "e1e28d5c-29c4-4252-9d9a-bc371e952104",
   "metadata": {},
   "outputs": [],
   "source": [
    "\n",
    "filepath='data/retail_sales.csv'\n",
    "df=pd.read_csv(filepath)\n"
   ]
  },
  {
   "cell_type": "code",
   "execution_count": 40,
   "id": "443e9132-a073-4dab-8696-b0beaf7d6e23",
   "metadata": {
    "jupyter": {
     "source_hidden": true
    }
   },
   "outputs": [
    {
     "name": "stdout",
     "output_type": "stream",
     "text": [
      "shape (5, 8)\n",
      "Cloumns : ['Order ID', 'Order Date', 'Customer Name', 'Region', 'Product Category', 'Sales', 'Discount', 'Profit']\n"
     ]
    }
   ],
   "source": [
    "# shape and the columns:\n",
    "print(\"shape\",df.shape)\n",
    "print('Cloumns :',df.columns.tolist())"
   ]
  },
  {
   "cell_type": "markdown",
   "id": "1c8ad8c5-b9dd-4667-ab2b-f30715c9f3f5",
   "metadata": {},
   "source": [
    "# quick overview of the data:"
   ]
  },
  {
   "cell_type": "code",
   "execution_count": 41,
   "id": "0ff8333e-1741-41d4-b95d-b2cd91015203",
   "metadata": {},
   "outputs": [
    {
     "name": "stdout",
     "output_type": "stream",
     "text": [
      "<class 'pandas.core.frame.DataFrame'>\n",
      "RangeIndex: 5 entries, 0 to 4\n",
      "Data columns (total 8 columns):\n",
      " #   Column            Non-Null Count  Dtype  \n",
      "---  ------            --------------  -----  \n",
      " 0   Order ID          5 non-null      int64  \n",
      " 1   Order Date        5 non-null      object \n",
      " 2   Customer Name     5 non-null      object \n",
      " 3   Region            5 non-null      object \n",
      " 4   Product Category  5 non-null      object \n",
      " 5   Sales             5 non-null      float64\n",
      " 6   Discount          5 non-null      float64\n",
      " 7   Profit            5 non-null      float64\n",
      "dtypes: float64(3), int64(1), object(4)\n",
      "memory usage: 452.0+ bytes\n"
     ]
    }
   ],
   "source": [
    "# data info:\n",
    "df.info()"
   ]
  },
  {
   "cell_type": "code",
   "execution_count": 42,
   "id": "cba3bae8-3d4d-403a-973a-1e36a281a331",
   "metadata": {},
   "outputs": [
    {
     "data": {
      "text/html": [
       "<div>\n",
       "<style scoped>\n",
       "    .dataframe tbody tr th:only-of-type {\n",
       "        vertical-align: middle;\n",
       "    }\n",
       "\n",
       "    .dataframe tbody tr th {\n",
       "        vertical-align: top;\n",
       "    }\n",
       "\n",
       "    .dataframe thead th {\n",
       "        text-align: right;\n",
       "    }\n",
       "</style>\n",
       "<table border=\"1\" class=\"dataframe\">\n",
       "  <thead>\n",
       "    <tr style=\"text-align: right;\">\n",
       "      <th></th>\n",
       "      <th>Order ID</th>\n",
       "      <th>Order Date</th>\n",
       "      <th>Customer Name</th>\n",
       "      <th>Region</th>\n",
       "      <th>Product Category</th>\n",
       "      <th>Sales</th>\n",
       "      <th>Discount</th>\n",
       "      <th>Profit</th>\n",
       "    </tr>\n",
       "  </thead>\n",
       "  <tbody>\n",
       "    <tr>\n",
       "      <th>0</th>\n",
       "      <td>1001</td>\n",
       "      <td>2025-01-10</td>\n",
       "      <td>Alice Smith</td>\n",
       "      <td>East</td>\n",
       "      <td>Furniture</td>\n",
       "      <td>250.75</td>\n",
       "      <td>0.10</td>\n",
       "      <td>50.15</td>\n",
       "    </tr>\n",
       "    <tr>\n",
       "      <th>1</th>\n",
       "      <td>1002</td>\n",
       "      <td>2025-01-15</td>\n",
       "      <td>Bob Johnson</td>\n",
       "      <td>West</td>\n",
       "      <td>Technology</td>\n",
       "      <td>550.00</td>\n",
       "      <td>0.20</td>\n",
       "      <td>100.00</td>\n",
       "    </tr>\n",
       "    <tr>\n",
       "      <th>2</th>\n",
       "      <td>1003</td>\n",
       "      <td>2025-02-01</td>\n",
       "      <td>Charlie Lee</td>\n",
       "      <td>East</td>\n",
       "      <td>Office Supplies</td>\n",
       "      <td>120.40</td>\n",
       "      <td>0.00</td>\n",
       "      <td>30.10</td>\n",
       "    </tr>\n",
       "    <tr>\n",
       "      <th>3</th>\n",
       "      <td>1004</td>\n",
       "      <td>2025-02-05</td>\n",
       "      <td>David Wilson</td>\n",
       "      <td>South</td>\n",
       "      <td>Furniture</td>\n",
       "      <td>300.50</td>\n",
       "      <td>0.15</td>\n",
       "      <td>45.20</td>\n",
       "    </tr>\n",
       "    <tr>\n",
       "      <th>4</th>\n",
       "      <td>1005</td>\n",
       "      <td>2025-02-10</td>\n",
       "      <td>Eva Brown</td>\n",
       "      <td>North</td>\n",
       "      <td>Technology</td>\n",
       "      <td>800.20</td>\n",
       "      <td>0.05</td>\n",
       "      <td>120.00</td>\n",
       "    </tr>\n",
       "  </tbody>\n",
       "</table>\n",
       "</div>"
      ],
      "text/plain": [
       "   Order ID  Order Date Customer Name Region Product Category   Sales  \\\n",
       "0      1001  2025-01-10   Alice Smith   East        Furniture  250.75   \n",
       "1      1002  2025-01-15   Bob Johnson   West       Technology  550.00   \n",
       "2      1003  2025-02-01   Charlie Lee   East  Office Supplies  120.40   \n",
       "3      1004  2025-02-05  David Wilson  South        Furniture  300.50   \n",
       "4      1005  2025-02-10     Eva Brown  North       Technology  800.20   \n",
       "\n",
       "   Discount  Profit  \n",
       "0      0.10   50.15  \n",
       "1      0.20  100.00  \n",
       "2      0.00   30.10  \n",
       "3      0.15   45.20  \n",
       "4      0.05  120.00  "
      ]
     },
     "execution_count": 42,
     "metadata": {},
     "output_type": "execute_result"
    }
   ],
   "source": [
    "# few rows:\n",
    "df.head()"
   ]
  },
  {
   "cell_type": "code",
   "execution_count": 43,
   "id": "55cf5c21-d772-4675-8176-75952fbaa6e0",
   "metadata": {},
   "outputs": [
    {
     "data": {
      "text/html": [
       "<div>\n",
       "<style scoped>\n",
       "    .dataframe tbody tr th:only-of-type {\n",
       "        vertical-align: middle;\n",
       "    }\n",
       "\n",
       "    .dataframe tbody tr th {\n",
       "        vertical-align: top;\n",
       "    }\n",
       "\n",
       "    .dataframe thead th {\n",
       "        text-align: right;\n",
       "    }\n",
       "</style>\n",
       "<table border=\"1\" class=\"dataframe\">\n",
       "  <thead>\n",
       "    <tr style=\"text-align: right;\">\n",
       "      <th></th>\n",
       "      <th>Order ID</th>\n",
       "      <th>Order Date</th>\n",
       "      <th>Customer Name</th>\n",
       "      <th>Region</th>\n",
       "      <th>Product Category</th>\n",
       "      <th>Sales</th>\n",
       "      <th>Discount</th>\n",
       "      <th>Profit</th>\n",
       "    </tr>\n",
       "  </thead>\n",
       "  <tbody>\n",
       "    <tr>\n",
       "      <th>count</th>\n",
       "      <td>5.000000</td>\n",
       "      <td>5</td>\n",
       "      <td>5</td>\n",
       "      <td>5</td>\n",
       "      <td>5</td>\n",
       "      <td>5.000000</td>\n",
       "      <td>5.000000</td>\n",
       "      <td>5.00000</td>\n",
       "    </tr>\n",
       "    <tr>\n",
       "      <th>unique</th>\n",
       "      <td>NaN</td>\n",
       "      <td>5</td>\n",
       "      <td>5</td>\n",
       "      <td>4</td>\n",
       "      <td>3</td>\n",
       "      <td>NaN</td>\n",
       "      <td>NaN</td>\n",
       "      <td>NaN</td>\n",
       "    </tr>\n",
       "    <tr>\n",
       "      <th>top</th>\n",
       "      <td>NaN</td>\n",
       "      <td>2025-01-10</td>\n",
       "      <td>Alice Smith</td>\n",
       "      <td>East</td>\n",
       "      <td>Furniture</td>\n",
       "      <td>NaN</td>\n",
       "      <td>NaN</td>\n",
       "      <td>NaN</td>\n",
       "    </tr>\n",
       "    <tr>\n",
       "      <th>freq</th>\n",
       "      <td>NaN</td>\n",
       "      <td>1</td>\n",
       "      <td>1</td>\n",
       "      <td>2</td>\n",
       "      <td>2</td>\n",
       "      <td>NaN</td>\n",
       "      <td>NaN</td>\n",
       "      <td>NaN</td>\n",
       "    </tr>\n",
       "    <tr>\n",
       "      <th>mean</th>\n",
       "      <td>1003.000000</td>\n",
       "      <td>NaN</td>\n",
       "      <td>NaN</td>\n",
       "      <td>NaN</td>\n",
       "      <td>NaN</td>\n",
       "      <td>404.370000</td>\n",
       "      <td>0.100000</td>\n",
       "      <td>69.09000</td>\n",
       "    </tr>\n",
       "    <tr>\n",
       "      <th>std</th>\n",
       "      <td>1.581139</td>\n",
       "      <td>NaN</td>\n",
       "      <td>NaN</td>\n",
       "      <td>NaN</td>\n",
       "      <td>NaN</td>\n",
       "      <td>270.608817</td>\n",
       "      <td>0.079057</td>\n",
       "      <td>38.71993</td>\n",
       "    </tr>\n",
       "    <tr>\n",
       "      <th>min</th>\n",
       "      <td>1001.000000</td>\n",
       "      <td>NaN</td>\n",
       "      <td>NaN</td>\n",
       "      <td>NaN</td>\n",
       "      <td>NaN</td>\n",
       "      <td>120.400000</td>\n",
       "      <td>0.000000</td>\n",
       "      <td>30.10000</td>\n",
       "    </tr>\n",
       "    <tr>\n",
       "      <th>25%</th>\n",
       "      <td>1002.000000</td>\n",
       "      <td>NaN</td>\n",
       "      <td>NaN</td>\n",
       "      <td>NaN</td>\n",
       "      <td>NaN</td>\n",
       "      <td>250.750000</td>\n",
       "      <td>0.050000</td>\n",
       "      <td>45.20000</td>\n",
       "    </tr>\n",
       "    <tr>\n",
       "      <th>50%</th>\n",
       "      <td>1003.000000</td>\n",
       "      <td>NaN</td>\n",
       "      <td>NaN</td>\n",
       "      <td>NaN</td>\n",
       "      <td>NaN</td>\n",
       "      <td>300.500000</td>\n",
       "      <td>0.100000</td>\n",
       "      <td>50.15000</td>\n",
       "    </tr>\n",
       "    <tr>\n",
       "      <th>75%</th>\n",
       "      <td>1004.000000</td>\n",
       "      <td>NaN</td>\n",
       "      <td>NaN</td>\n",
       "      <td>NaN</td>\n",
       "      <td>NaN</td>\n",
       "      <td>550.000000</td>\n",
       "      <td>0.150000</td>\n",
       "      <td>100.00000</td>\n",
       "    </tr>\n",
       "    <tr>\n",
       "      <th>max</th>\n",
       "      <td>1005.000000</td>\n",
       "      <td>NaN</td>\n",
       "      <td>NaN</td>\n",
       "      <td>NaN</td>\n",
       "      <td>NaN</td>\n",
       "      <td>800.200000</td>\n",
       "      <td>0.200000</td>\n",
       "      <td>120.00000</td>\n",
       "    </tr>\n",
       "  </tbody>\n",
       "</table>\n",
       "</div>"
      ],
      "text/plain": [
       "           Order ID  Order Date Customer Name Region Product Category  \\\n",
       "count      5.000000           5             5      5                5   \n",
       "unique          NaN           5             5      4                3   \n",
       "top             NaN  2025-01-10   Alice Smith   East        Furniture   \n",
       "freq            NaN           1             1      2                2   \n",
       "mean    1003.000000         NaN           NaN    NaN              NaN   \n",
       "std        1.581139         NaN           NaN    NaN              NaN   \n",
       "min     1001.000000         NaN           NaN    NaN              NaN   \n",
       "25%     1002.000000         NaN           NaN    NaN              NaN   \n",
       "50%     1003.000000         NaN           NaN    NaN              NaN   \n",
       "75%     1004.000000         NaN           NaN    NaN              NaN   \n",
       "max     1005.000000         NaN           NaN    NaN              NaN   \n",
       "\n",
       "             Sales  Discount     Profit  \n",
       "count     5.000000  5.000000    5.00000  \n",
       "unique         NaN       NaN        NaN  \n",
       "top            NaN       NaN        NaN  \n",
       "freq           NaN       NaN        NaN  \n",
       "mean    404.370000  0.100000   69.09000  \n",
       "std     270.608817  0.079057   38.71993  \n",
       "min     120.400000  0.000000   30.10000  \n",
       "25%     250.750000  0.050000   45.20000  \n",
       "50%     300.500000  0.100000   50.15000  \n",
       "75%     550.000000  0.150000  100.00000  \n",
       "max     800.200000  0.200000  120.00000  "
      ]
     },
     "execution_count": 43,
     "metadata": {},
     "output_type": "execute_result"
    }
   ],
   "source": [
    "# summary statistics:\n",
    "df.describe(include='all')"
   ]
  },
  {
   "cell_type": "markdown",
   "id": "b7aec1b5-9330-45b0-833c-f8f1eaa6bf98",
   "metadata": {},
   "source": [
    "# making cleaned version of csv"
   ]
  },
  {
   "cell_type": "code",
   "execution_count": 44,
   "id": "5b8f93aa-907b-438d-a7c9-7474f11f7a49",
   "metadata": {},
   "outputs": [
    {
     "data": {
      "text/plain": [
       "Order ID            0\n",
       "Order Date          0\n",
       "Customer Name       0\n",
       "Region              0\n",
       "Product Category    0\n",
       "Sales               0\n",
       "Discount            0\n",
       "Profit              0\n",
       "dtype: int64"
      ]
     },
     "execution_count": 44,
     "metadata": {},
     "output_type": "execute_result"
    }
   ],
   "source": [
    "# check for missing values\n",
    "df.isnull().sum()"
   ]
  },
  {
   "cell_type": "code",
   "execution_count": 45,
   "id": "4ba011e0-9dd3-4639-ac2c-5bc64847dabc",
   "metadata": {},
   "outputs": [
    {
     "data": {
      "text/plain": [
       "'No missing values'"
      ]
     },
     "execution_count": 45,
     "metadata": {},
     "output_type": "execute_result"
    }
   ],
   "source": [
    "'No missing values'"
   ]
  },
  {
   "cell_type": "code",
   "execution_count": 46,
   "id": "c204d02f-e9b4-4769-ba0e-5bd7f627c04d",
   "metadata": {},
   "outputs": [
    {
     "data": {
      "text/plain": [
       "np.int64(0)"
      ]
     },
     "execution_count": 46,
     "metadata": {},
     "output_type": "execute_result"
    }
   ],
   "source": [
    "# remove duplicates\n",
    "df.duplicated().sum()"
   ]
  },
  {
   "cell_type": "code",
   "execution_count": 47,
   "id": "89156be4-c402-4597-ae1c-96e8e5dbc499",
   "metadata": {},
   "outputs": [
    {
     "data": {
      "text/plain": [
       "'No duplicated values here'"
      ]
     },
     "execution_count": 47,
     "metadata": {},
     "output_type": "execute_result"
    }
   ],
   "source": [
    "'No duplicated values here'"
   ]
  },
  {
   "cell_type": "code",
   "execution_count": 48,
   "id": "a60f9ba4-2e64-40fd-bf73-00e5282becc7",
   "metadata": {},
   "outputs": [],
   "source": [
    "# standardize columns\n",
    "\n",
    "# Convert 'Order Date' to datetime\n",
    "df['Order Date']=pd.to_datetime(df['Order Date'])\n",
    "\n",
    "# stripping and standardizing the column strings\n",
    "df['Customer Name']=df['Customer Name'].str.strip().str.title()\n",
    "df['Region']=df['Region'].str.strip().str.title()\n",
    "df['Product Category']=df['Product Category'].str.strip().str.title()\n",
    "\n",
    "# droping the duplicated values if exists:\n",
    "df=df.drop_duplicates()\n",
    "\n",
    "\n",
    "\n"
   ]
  },
  {
   "cell_type": "code",
   "execution_count": null,
   "id": "744ec8fe-4061-4e95-b2c7-788be5c6ad23",
   "metadata": {},
   "outputs": [],
   "source": []
  },
  {
   "cell_type": "code",
   "execution_count": 49,
   "id": "0893d244-aad4-42c8-92f3-77facf4b49f6",
   "metadata": {},
   "outputs": [],
   "source": [
    "# converting the dataset to csv file:\n",
    "\n",
    "df.to_csv('cleaned.csv',index=False)"
   ]
  },
  {
   "cell_type": "markdown",
   "id": "9f01a632-f124-4ae0-b297-36bf5392aad1",
   "metadata": {},
   "source": [
    "# Univariate Analysis"
   ]
  },
  {
   "cell_type": "code",
   "execution_count": 50,
   "id": "26f140aa-e8b6-4334-8b76-8cbdd4f07b41",
   "metadata": {},
   "outputs": [
    {
     "data": {
      "text/html": [
       "<div>\n",
       "<style scoped>\n",
       "    .dataframe tbody tr th:only-of-type {\n",
       "        vertical-align: middle;\n",
       "    }\n",
       "\n",
       "    .dataframe tbody tr th {\n",
       "        vertical-align: top;\n",
       "    }\n",
       "\n",
       "    .dataframe thead th {\n",
       "        text-align: right;\n",
       "    }\n",
       "</style>\n",
       "<table border=\"1\" class=\"dataframe\">\n",
       "  <thead>\n",
       "    <tr style=\"text-align: right;\">\n",
       "      <th></th>\n",
       "      <th>Order ID</th>\n",
       "      <th>Order Date</th>\n",
       "      <th>Customer Name</th>\n",
       "      <th>Region</th>\n",
       "      <th>Product Category</th>\n",
       "      <th>Sales</th>\n",
       "      <th>Discount</th>\n",
       "      <th>Profit</th>\n",
       "    </tr>\n",
       "  </thead>\n",
       "  <tbody>\n",
       "    <tr>\n",
       "      <th>0</th>\n",
       "      <td>1001</td>\n",
       "      <td>2025-01-10</td>\n",
       "      <td>Alice Smith</td>\n",
       "      <td>East</td>\n",
       "      <td>Furniture</td>\n",
       "      <td>250.75</td>\n",
       "      <td>0.10</td>\n",
       "      <td>50.15</td>\n",
       "    </tr>\n",
       "    <tr>\n",
       "      <th>1</th>\n",
       "      <td>1002</td>\n",
       "      <td>2025-01-15</td>\n",
       "      <td>Bob Johnson</td>\n",
       "      <td>West</td>\n",
       "      <td>Technology</td>\n",
       "      <td>550.00</td>\n",
       "      <td>0.20</td>\n",
       "      <td>100.00</td>\n",
       "    </tr>\n",
       "    <tr>\n",
       "      <th>2</th>\n",
       "      <td>1003</td>\n",
       "      <td>2025-02-01</td>\n",
       "      <td>Charlie Lee</td>\n",
       "      <td>East</td>\n",
       "      <td>Office Supplies</td>\n",
       "      <td>120.40</td>\n",
       "      <td>0.00</td>\n",
       "      <td>30.10</td>\n",
       "    </tr>\n",
       "    <tr>\n",
       "      <th>3</th>\n",
       "      <td>1004</td>\n",
       "      <td>2025-02-05</td>\n",
       "      <td>David Wilson</td>\n",
       "      <td>South</td>\n",
       "      <td>Furniture</td>\n",
       "      <td>300.50</td>\n",
       "      <td>0.15</td>\n",
       "      <td>45.20</td>\n",
       "    </tr>\n",
       "    <tr>\n",
       "      <th>4</th>\n",
       "      <td>1005</td>\n",
       "      <td>2025-02-10</td>\n",
       "      <td>Eva Brown</td>\n",
       "      <td>North</td>\n",
       "      <td>Technology</td>\n",
       "      <td>800.20</td>\n",
       "      <td>0.05</td>\n",
       "      <td>120.00</td>\n",
       "    </tr>\n",
       "  </tbody>\n",
       "</table>\n",
       "</div>"
      ],
      "text/plain": [
       "   Order ID Order Date Customer Name Region Product Category   Sales  \\\n",
       "0      1001 2025-01-10   Alice Smith   East        Furniture  250.75   \n",
       "1      1002 2025-01-15   Bob Johnson   West       Technology  550.00   \n",
       "2      1003 2025-02-01   Charlie Lee   East  Office Supplies  120.40   \n",
       "3      1004 2025-02-05  David Wilson  South        Furniture  300.50   \n",
       "4      1005 2025-02-10     Eva Brown  North       Technology  800.20   \n",
       "\n",
       "   Discount  Profit  \n",
       "0      0.10   50.15  \n",
       "1      0.20  100.00  \n",
       "2      0.00   30.10  \n",
       "3      0.15   45.20  \n",
       "4      0.05  120.00  "
      ]
     },
     "execution_count": 50,
     "metadata": {},
     "output_type": "execute_result"
    }
   ],
   "source": [
    "df.head()"
   ]
  },
  {
   "cell_type": "code",
   "execution_count": 51,
   "id": "a5816273-b5b3-4e13-a896-a24257ce3d86",
   "metadata": {},
   "outputs": [
    {
     "data": {
      "text/plain": [
       "<function matplotlib.pyplot.figure(num: 'int | str | Figure | SubFigure | None' = None, figsize: 'tuple[float, float] | None' = None, dpi: 'float | None' = None, *, facecolor: 'ColorType | None' = None, edgecolor: 'ColorType | None' = None, frameon: 'bool' = True, FigureClass: 'type[Figure]' = <class 'matplotlib.figure.Figure'>, clear: 'bool' = False, **kwargs) -> 'Figure'>"
      ]
     },
     "execution_count": 51,
     "metadata": {},
     "output_type": "execute_result"
    }
   ],
   "source": [
    "# number of regions counts:\n",
    "\n",
    "# preparing the data:\n",
    "value_counts=df['Region'].value_counts().reset_index()\n",
    "value_counts.columns=['Regions','count']\n",
    "value_counts=value_counts.sort_values(by='count')\n",
    "\n",
    "plt.figure(figsize=(12,7))\n",
    "barplot=sns.countplot(data=value_counts,x='Regions',y='count',palette='viridis')\n",
    "\n",
    "for i,row in value_count.iterrow():\n",
    "    barplot.text(i,row['count']+0.5,row['count'],color='black',ha='center',fontsize=9)\n"
   ]
  },
  {
   "cell_type": "code",
   "execution_count": null,
   "id": "745b527a-3a4d-4025-bd9e-7296b85b14c1",
   "metadata": {},
   "outputs": [],
   "source": []
  },
  {
   "cell_type": "code",
   "execution_count": null,
   "id": "f59cdcf6-6066-45fa-8160-773057e7c0a0",
   "metadata": {},
   "outputs": [],
   "source": []
  },
  {
   "cell_type": "code",
   "execution_count": null,
   "id": "521c60d9-983a-48a6-be8d-68482514f175",
   "metadata": {},
   "outputs": [],
   "source": []
  },
  {
   "cell_type": "code",
   "execution_count": null,
   "id": "878ed71a-2bed-474c-ba1a-756083e8254b",
   "metadata": {},
   "outputs": [],
   "source": []
  },
  {
   "cell_type": "code",
   "execution_count": null,
   "id": "153e763f-4aa9-4fb3-9594-76e2dc5c0543",
   "metadata": {},
   "outputs": [],
   "source": []
  },
  {
   "cell_type": "code",
   "execution_count": null,
   "id": "e3a285ce-3a44-4215-86cf-c33183846c60",
   "metadata": {},
   "outputs": [],
   "source": []
  }
 ],
 "metadata": {
  "kernelspec": {
   "display_name": "Python 3 (ipykernel)",
   "language": "python",
   "name": "python3"
  },
  "language_info": {
   "codemirror_mode": {
    "name": "ipython",
    "version": 3
   },
   "file_extension": ".py",
   "mimetype": "text/x-python",
   "name": "python",
   "nbconvert_exporter": "python",
   "pygments_lexer": "ipython3",
   "version": "3.13.3"
  }
 },
 "nbformat": 4,
 "nbformat_minor": 5
}
