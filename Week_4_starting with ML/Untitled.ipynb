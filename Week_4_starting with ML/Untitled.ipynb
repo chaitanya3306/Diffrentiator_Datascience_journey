{
 "cells": [
  {
   "cell_type": "code",
   "execution_count": null,
   "id": "477ad2e3-b563-497f-8c7d-be7eb7946a2a",
   "metadata": {},
   "outputs": [],
   "source": []
  }
 ],
 "metadata": {
  "kernelspec": {
   "display_name": "Python 3 (ipykernel)",
   "language": "python",
   "name": "python3"
  },
  "language_info": {
   "codemirror_mode": {
    "name": "ipython",
    "version": 3
   },
   "file_extension": ".py",
   "mimetype": "text/x-python",
   "name": "python",
   "nbconvert_exporter": "python",
   "pygments_lexer": "ipython3",
   "version": "3.13.3"
  }
 },
 "nbformat": 4,
 "nbformat_minor": 5
}
