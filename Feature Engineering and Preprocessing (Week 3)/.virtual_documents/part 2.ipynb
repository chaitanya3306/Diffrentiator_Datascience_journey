





#detecting skewness:
import pandas as pd 
import numpy as np
import matplotlib.pyplot as plt
import seaborn as sns 


# Example data
df = pd.DataFrame({
    "Sales": [100, 200, 300, 400, 500, 600, 2000, 5000, 8000, 15000]
})



print(f'Skewness:\n{df['Sales'].skew()}')
sns.histplot(df['Sales'],kde=True)
plt.show()











df['Sales_log']=np.log1p(df['Sales']) #it handles log0
sns.histplot(df['Sales_log'],kde=True)
plt.show()





from scipy import stats
Sales_boxCox,lambda_value=stats.boxcox(df['Sales'])
print(f"boxCox Lambda: {lambda_value}")





from sklearn.preprocessing import PowerTransformer

pt=PowerTransformer(method='yeo-johnson')

df['Sales_Yeo']=pt.fit_transform(df[['Sales']])
df


#main application in part 1 acutually








df = pd.DataFrame({"Salary": [30000, 32000, 35000, 36000, 580000, 40000, 37000]})


df


def cap_outliers(df,col):
    Q1=df[col].quantile(0.25)
    Q3=df[col].quantile(0.75)
    IQR=Q3-Q1
    lower_bound=Q1-1.5*IQR
    upper_bound=Q3+1.5*IQR
    df[col]=df[col].clip(lower=lower_bound,upper=upper_bound)
    print(upper_bound)
    


cap_outliers(df,'Salary')



