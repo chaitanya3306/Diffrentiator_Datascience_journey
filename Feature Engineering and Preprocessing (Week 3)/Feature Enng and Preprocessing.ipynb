{
 "cells": [
  {
   "cell_type": "code",
   "execution_count": 1,
   "id": "e3465713-b378-4ee5-89a5-cb2cf2201a4c",
   "metadata": {},
   "outputs": [],
   "source": [
    "import pandas as pd \n",
    "import numpy as np\n",
    "import matplotlib.pyplot as plt\n",
    "import seaborn as sns"
   ]
  },
  {
   "cell_type": "markdown",
   "id": "14248dff-df87-4860-8891-1647a5faed17",
   "metadata": {},
   "source": [
    "# Load and peek the data:\n"
   ]
  },
  {
   "cell_type": "code",
   "execution_count": 2,
   "id": "4efd7ea6-5df1-4fc9-9edc-f1165c253a1e",
   "metadata": {},
   "outputs": [],
   "source": [
    "filepath='Data/bank_loan_dataset.csv'\n",
    "df=pd.read_csv(filepath)"
   ]
  },
  {
   "cell_type": "code",
   "execution_count": 3,
   "id": "a06a03ea-9c38-4336-ae12-a41b7ca7c441",
   "metadata": {},
   "outputs": [
    {
     "name": "stdout",
     "output_type": "stream",
     "text": [
      "Shape:\n"
     ]
    },
    {
     "data": {
      "text/plain": [
       "(8, 13)"
      ]
     },
     "execution_count": 3,
     "metadata": {},
     "output_type": "execute_result"
    }
   ],
   "source": [
    "print(\"Shape:\")\n",
    "df.shape\n"
   ]
  },
  {
   "cell_type": "code",
   "execution_count": 4,
   "id": "17ab74c8-2990-49fc-9da1-40e8960b3cee",
   "metadata": {},
   "outputs": [
    {
     "name": "stdout",
     "output_type": "stream",
     "text": [
      "first five lines :\n"
     ]
    }
   ],
   "source": [
    "print('first five lines :')"
   ]
  },
  {
   "cell_type": "code",
   "execution_count": 5,
   "id": "2c5a8b58-88dc-4bb1-9f4d-ce14fb726a3a",
   "metadata": {},
   "outputs": [
    {
     "name": "stdout",
     "output_type": "stream",
     "text": [
      "Columns:\n"
     ]
    },
    {
     "data": {
      "text/plain": [
       "['Loan_ID',\n",
       " 'Gender',\n",
       " 'Married',\n",
       " 'Dependents',\n",
       " 'Education',\n",
       " 'Self_Employed',\n",
       " 'ApplicantIncome',\n",
       " 'CoapplicantIncome',\n",
       " 'LoanAmount',\n",
       " 'Loan_Amount_Term',\n",
       " 'Credit_History',\n",
       " 'Property_Area',\n",
       " 'Loan_Status']"
      ]
     },
     "execution_count": 5,
     "metadata": {},
     "output_type": "execute_result"
    }
   ],
   "source": [
    "print('Columns:')\n",
    "df.columns.to_list()"
   ]
  },
  {
   "cell_type": "code",
   "execution_count": 6,
   "id": "c42bbc56-5921-405c-8e03-07d01e03e2a6",
   "metadata": {},
   "outputs": [
    {
     "name": "stdout",
     "output_type": "stream",
     "text": [
      "basic info :\n",
      "<class 'pandas.core.frame.DataFrame'>\n",
      "RangeIndex: 8 entries, 0 to 7\n",
      "Data columns (total 13 columns):\n",
      " #   Column             Non-Null Count  Dtype  \n",
      "---  ------             --------------  -----  \n",
      " 0   Loan_ID            8 non-null      object \n",
      " 1   Gender             7 non-null      object \n",
      " 2   Married            7 non-null      object \n",
      " 3   Dependents         8 non-null      object \n",
      " 4   Education          8 non-null      object \n",
      " 5   Self_Employed      8 non-null      object \n",
      " 6   ApplicantIncome    8 non-null      int64  \n",
      " 7   CoapplicantIncome  8 non-null      int64  \n",
      " 8   LoanAmount         7 non-null      float64\n",
      " 9   Loan_Amount_Term   7 non-null      float64\n",
      " 10  Credit_History     6 non-null      float64\n",
      " 11  Property_Area      8 non-null      object \n",
      " 12  Loan_Status        8 non-null      object \n",
      "dtypes: float64(3), int64(2), object(8)\n",
      "memory usage: 964.0+ bytes\n"
     ]
    }
   ],
   "source": [
    "print('basic info :')\n",
    "df.info()\n"
   ]
  },
  {
   "cell_type": "code",
   "execution_count": 7,
   "id": "7cd92489-0479-4dd8-b7ef-8d98ab49766c",
   "metadata": {},
   "outputs": [
    {
     "data": {
      "text/plain": [
       "Loan_ID              0\n",
       "Gender               1\n",
       "Married              1\n",
       "Dependents           0\n",
       "Education            0\n",
       "Self_Employed        0\n",
       "ApplicantIncome      0\n",
       "CoapplicantIncome    0\n",
       "LoanAmount           1\n",
       "Loan_Amount_Term     1\n",
       "Credit_History       2\n",
       "Property_Area        0\n",
       "Loan_Status          0\n",
       "dtype: int64"
      ]
     },
     "execution_count": 7,
     "metadata": {},
     "output_type": "execute_result"
    }
   ],
   "source": [
    "# missing values:\n",
    "df.isnull().sum()"
   ]
  },
  {
   "cell_type": "markdown",
   "id": "2c2588df-b3ab-4c49-983b-31a8f51eb469",
   "metadata": {},
   "source": [
    "there are null values in the 5 columns "
   ]
  },
  {
   "cell_type": "code",
   "execution_count": 8,
   "id": "62f13e65-f734-4dc7-95ba-330e3211c8c0",
   "metadata": {},
   "outputs": [
    {
     "data": {
      "text/plain": [
       "Loan_ID              0\n",
       "Gender               0\n",
       "Married              0\n",
       "Dependents           0\n",
       "Education            0\n",
       "Self_Employed        0\n",
       "ApplicantIncome      0\n",
       "CoapplicantIncome    0\n",
       "LoanAmount           0\n",
       "Loan_Amount_Term     0\n",
       "Credit_History       0\n",
       "Property_Area        0\n",
       "Loan_Status          0\n",
       "dtype: int64"
      ]
     },
     "execution_count": 8,
     "metadata": {},
     "output_type": "execute_result"
    }
   ],
   "source": [
    "# dealing with the null values:\n",
    "df['Gender']=df['Gender'].fillna('unknown')\n",
    "mode_value=df['Married'].mode()[0]\n",
    "df['Married']=df['Married'].fillna(mode_value)\n",
    "df['LoanAmount']=df.groupby(['Education','Self_Employed'])['LoanAmount'].transform(lambda x:x.fillna(x.median()))\n",
    "df['Loan_Amount_Term']=df['Loan_Amount_Term'].fillna(df['Loan_Amount_Term'].mean())\n",
    "df['Credit_History']=df['Credit_History'].fillna(df['Credit_History'].mean())\n",
    "df.isnull().sum()"
   ]
  },
  {
   "cell_type": "code",
   "execution_count": 9,
   "id": "ac2fb856-2d8d-425e-aa31-64a9b24c4d31",
   "metadata": {},
   "outputs": [
    {
     "data": {
      "text/plain": [
       "np.int64(0)"
      ]
     },
     "execution_count": 9,
     "metadata": {},
     "output_type": "execute_result"
    }
   ],
   "source": [
    "# duplicate values:\n",
    "df.duplicated().sum()"
   ]
  },
  {
   "cell_type": "markdown",
   "id": "5cf9f739-41c2-4507-ae90-97bff06d1b77",
   "metadata": {},
   "source": [
    "No Duplicated Values are present in this "
   ]
  },
  {
   "cell_type": "code",
   "execution_count": 10,
   "id": "d9fe4cf0-0d72-4762-8e85-5d4bf96db9ac",
   "metadata": {},
   "outputs": [
    {
     "data": {
      "text/html": [
       "<div>\n",
       "<style scoped>\n",
       "    .dataframe tbody tr th:only-of-type {\n",
       "        vertical-align: middle;\n",
       "    }\n",
       "\n",
       "    .dataframe tbody tr th {\n",
       "        vertical-align: top;\n",
       "    }\n",
       "\n",
       "    .dataframe thead th {\n",
       "        text-align: right;\n",
       "    }\n",
       "</style>\n",
       "<table border=\"1\" class=\"dataframe\">\n",
       "  <thead>\n",
       "    <tr style=\"text-align: right;\">\n",
       "      <th></th>\n",
       "      <th>count</th>\n",
       "      <th>mean</th>\n",
       "      <th>std</th>\n",
       "      <th>min</th>\n",
       "      <th>25%</th>\n",
       "      <th>50%</th>\n",
       "      <th>75%</th>\n",
       "      <th>max</th>\n",
       "    </tr>\n",
       "  </thead>\n",
       "  <tbody>\n",
       "    <tr>\n",
       "      <th>ApplicantIncome</th>\n",
       "      <td>8.0</td>\n",
       "      <td>4100.125000</td>\n",
       "      <td>1530.753917</td>\n",
       "      <td>2333.0</td>\n",
       "      <td>2895.750000</td>\n",
       "      <td>3809.5</td>\n",
       "      <td>5525.00</td>\n",
       "      <td>6000.0</td>\n",
       "    </tr>\n",
       "    <tr>\n",
       "      <th>CoapplicantIncome</th>\n",
       "      <td>8.0</td>\n",
       "      <td>1510.250000</td>\n",
       "      <td>1500.574914</td>\n",
       "      <td>0.0</td>\n",
       "      <td>0.000000</td>\n",
       "      <td>1512.0</td>\n",
       "      <td>2394.50</td>\n",
       "      <td>4196.0</td>\n",
       "    </tr>\n",
       "    <tr>\n",
       "      <th>LoanAmount</th>\n",
       "      <td>8.0</td>\n",
       "      <td>137.875000</td>\n",
       "      <td>59.289694</td>\n",
       "      <td>66.0</td>\n",
       "      <td>113.750000</td>\n",
       "      <td>128.0</td>\n",
       "      <td>145.25</td>\n",
       "      <td>267.0</td>\n",
       "    </tr>\n",
       "    <tr>\n",
       "      <th>Loan_Amount_Term</th>\n",
       "      <td>8.0</td>\n",
       "      <td>360.000000</td>\n",
       "      <td>0.000000</td>\n",
       "      <td>360.0</td>\n",
       "      <td>360.000000</td>\n",
       "      <td>360.0</td>\n",
       "      <td>360.00</td>\n",
       "      <td>360.0</td>\n",
       "    </tr>\n",
       "    <tr>\n",
       "      <th>Credit_History</th>\n",
       "      <td>8.0</td>\n",
       "      <td>0.833333</td>\n",
       "      <td>0.345033</td>\n",
       "      <td>0.0</td>\n",
       "      <td>0.833333</td>\n",
       "      <td>1.0</td>\n",
       "      <td>1.00</td>\n",
       "      <td>1.0</td>\n",
       "    </tr>\n",
       "  </tbody>\n",
       "</table>\n",
       "</div>"
      ],
      "text/plain": [
       "                   count         mean          std     min          25%  \\\n",
       "ApplicantIncome      8.0  4100.125000  1530.753917  2333.0  2895.750000   \n",
       "CoapplicantIncome    8.0  1510.250000  1500.574914     0.0     0.000000   \n",
       "LoanAmount           8.0   137.875000    59.289694    66.0   113.750000   \n",
       "Loan_Amount_Term     8.0   360.000000     0.000000   360.0   360.000000   \n",
       "Credit_History       8.0     0.833333     0.345033     0.0     0.833333   \n",
       "\n",
       "                      50%      75%     max  \n",
       "ApplicantIncome    3809.5  5525.00  6000.0  \n",
       "CoapplicantIncome  1512.0  2394.50  4196.0  \n",
       "LoanAmount          128.0   145.25   267.0  \n",
       "Loan_Amount_Term    360.0   360.00   360.0  \n",
       "Credit_History        1.0     1.00     1.0  "
      ]
     },
     "execution_count": 10,
     "metadata": {},
     "output_type": "execute_result"
    }
   ],
   "source": [
    "# describing the datasest in the terms :\n",
    "df.describe(include=['int64','float64']).T"
   ]
  },
  {
   "cell_type": "markdown",
   "id": "1021a882-9a50-4ff7-8a1a-2f18937bded4",
   "metadata": {},
   "source": [
    "# Deep Porofiling of Dataset"
   ]
  },
  {
   "cell_type": "code",
   "execution_count": 11,
   "id": "0a93a41e-26c5-4e76-b733-b2a130f15adc",
   "metadata": {},
   "outputs": [
    {
     "data": {
      "text/html": [
       "<div>\n",
       "<style scoped>\n",
       "    .dataframe tbody tr th:only-of-type {\n",
       "        vertical-align: middle;\n",
       "    }\n",
       "\n",
       "    .dataframe tbody tr th {\n",
       "        vertical-align: top;\n",
       "    }\n",
       "\n",
       "    .dataframe thead th {\n",
       "        text-align: right;\n",
       "    }\n",
       "</style>\n",
       "<table border=\"1\" class=\"dataframe\">\n",
       "  <thead>\n",
       "    <tr style=\"text-align: right;\">\n",
       "      <th></th>\n",
       "      <th>Loan_ID</th>\n",
       "      <th>Gender</th>\n",
       "      <th>Married</th>\n",
       "      <th>Dependents</th>\n",
       "      <th>Education</th>\n",
       "      <th>Self_Employed</th>\n",
       "      <th>ApplicantIncome</th>\n",
       "      <th>CoapplicantIncome</th>\n",
       "      <th>LoanAmount</th>\n",
       "      <th>Loan_Amount_Term</th>\n",
       "      <th>Credit_History</th>\n",
       "      <th>Property_Area</th>\n",
       "      <th>Loan_Status</th>\n",
       "    </tr>\n",
       "  </thead>\n",
       "  <tbody>\n",
       "    <tr>\n",
       "      <th>0</th>\n",
       "      <td>LP001002</td>\n",
       "      <td>Male</td>\n",
       "      <td>Yes</td>\n",
       "      <td>0</td>\n",
       "      <td>Graduate</td>\n",
       "      <td>No</td>\n",
       "      <td>5849</td>\n",
       "      <td>0</td>\n",
       "      <td>128.0</td>\n",
       "      <td>360.0</td>\n",
       "      <td>1.000000</td>\n",
       "      <td>Urban</td>\n",
       "      <td>Y</td>\n",
       "    </tr>\n",
       "    <tr>\n",
       "      <th>1</th>\n",
       "      <td>LP001003</td>\n",
       "      <td>Male</td>\n",
       "      <td>Yes</td>\n",
       "      <td>1</td>\n",
       "      <td>Graduate</td>\n",
       "      <td>No</td>\n",
       "      <td>4583</td>\n",
       "      <td>1508</td>\n",
       "      <td>128.0</td>\n",
       "      <td>360.0</td>\n",
       "      <td>1.000000</td>\n",
       "      <td>Urban</td>\n",
       "      <td>Y</td>\n",
       "    </tr>\n",
       "    <tr>\n",
       "      <th>2</th>\n",
       "      <td>LP001005</td>\n",
       "      <td>Male</td>\n",
       "      <td>Yes</td>\n",
       "      <td>0</td>\n",
       "      <td>Graduate</td>\n",
       "      <td>Yes</td>\n",
       "      <td>3000</td>\n",
       "      <td>0</td>\n",
       "      <td>66.0</td>\n",
       "      <td>360.0</td>\n",
       "      <td>1.000000</td>\n",
       "      <td>Rural</td>\n",
       "      <td>N</td>\n",
       "    </tr>\n",
       "    <tr>\n",
       "      <th>3</th>\n",
       "      <td>LP001006</td>\n",
       "      <td>Female</td>\n",
       "      <td>No</td>\n",
       "      <td>0</td>\n",
       "      <td>Graduate</td>\n",
       "      <td>No</td>\n",
       "      <td>2583</td>\n",
       "      <td>2358</td>\n",
       "      <td>120.0</td>\n",
       "      <td>360.0</td>\n",
       "      <td>0.833333</td>\n",
       "      <td>Semiurban</td>\n",
       "      <td>Y</td>\n",
       "    </tr>\n",
       "    <tr>\n",
       "      <th>4</th>\n",
       "      <td>LP001008</td>\n",
       "      <td>Male</td>\n",
       "      <td>Yes</td>\n",
       "      <td>1</td>\n",
       "      <td>Graduate</td>\n",
       "      <td>No</td>\n",
       "      <td>6000</td>\n",
       "      <td>0</td>\n",
       "      <td>141.0</td>\n",
       "      <td>360.0</td>\n",
       "      <td>1.000000</td>\n",
       "      <td>urban</td>\n",
       "      <td>Y</td>\n",
       "    </tr>\n",
       "  </tbody>\n",
       "</table>\n",
       "</div>"
      ],
      "text/plain": [
       "    Loan_ID  Gender Married Dependents Education Self_Employed  \\\n",
       "0  LP001002    Male     Yes          0  Graduate            No   \n",
       "1  LP001003    Male     Yes          1  Graduate            No   \n",
       "2  LP001005    Male     Yes          0  Graduate           Yes   \n",
       "3  LP001006  Female      No          0  Graduate            No   \n",
       "4  LP001008    Male     Yes          1  Graduate            No   \n",
       "\n",
       "   ApplicantIncome  CoapplicantIncome  LoanAmount  Loan_Amount_Term  \\\n",
       "0             5849                  0       128.0             360.0   \n",
       "1             4583               1508       128.0             360.0   \n",
       "2             3000                  0        66.0             360.0   \n",
       "3             2583               2358       120.0             360.0   \n",
       "4             6000                  0       141.0             360.0   \n",
       "\n",
       "   Credit_History Property_Area Loan_Status  \n",
       "0        1.000000         Urban           Y  \n",
       "1        1.000000         Urban           Y  \n",
       "2        1.000000         Rural           N  \n",
       "3        0.833333     Semiurban           Y  \n",
       "4        1.000000         urban           Y  "
      ]
     },
     "execution_count": 11,
     "metadata": {},
     "output_type": "execute_result"
    }
   ],
   "source": [
    "df.head()"
   ]
  },
  {
   "cell_type": "code",
   "execution_count": 12,
   "id": "0567007b-6c25-41a4-b821-14a8b5f5b71b",
   "metadata": {},
   "outputs": [
    {
     "name": "stdout",
     "output_type": "stream",
     "text": [
      "Loan_ID : ['LP001002' 'LP001003' 'LP001005' 'LP001006' 'LP001008' 'LP001011'\n",
      " 'LP001013' 'LP001014']  \n",
      "Gender : ['Male' 'Female' 'unknown']  \n",
      "Married : ['Yes' 'No']  \n",
      "Dependents : ['0' '1' '2' '3+']  \n",
      "Education : ['Graduate' 'Not Graduate']  \n",
      "Self_Employed : ['No' 'Yes']  \n",
      "ApplicantIncome : [5849 4583 3000 2583 6000 5417 2333 3036]  \n",
      "CoapplicantIncome : [   0 1508 2358 4196 1516 2504]  \n",
      "LoanAmount : [128.  66. 120. 141. 267.  95. 158.]  \n",
      "Loan_Amount_Term : [360.]  \n",
      "Credit_History : [1.         0.83333333 0.        ]  \n",
      "Property_Area : ['Urban' 'Rural' 'Semiurban' 'urban' 'SemiUrban']  \n",
      "Loan_Status : ['Y' 'N']  \n"
     ]
    }
   ],
   "source": [
    "# identify the unique values of the dataset:\n",
    "\n",
    "for col in df.columns:\n",
    "    unique_vals=df[col].unique()\n",
    "    print(f\"{col} : {unique_vals}  \")"
   ]
  },
  {
   "cell_type": "code",
   "execution_count": 13,
   "id": "e8e2f0df-3e3c-4e6d-bf4f-07e2af2f7fd9",
   "metadata": {},
   "outputs": [],
   "source": [
    "#  Check data types & distributions\n",
    "# Purpose: Detect wrong types (e.g., numbers stored as strings, dates as objects)"
   ]
  },
  {
   "cell_type": "code",
   "execution_count": 14,
   "id": "ec526d45-f05e-4ded-b655-89f7c16c6541",
   "metadata": {},
   "outputs": [
    {
     "data": {
      "text/plain": [
       "Loan_ID               object\n",
       "Gender                object\n",
       "Married               object\n",
       "Dependents            object\n",
       "Education             object\n",
       "Self_Employed         object\n",
       "ApplicantIncome        int64\n",
       "CoapplicantIncome      int64\n",
       "LoanAmount           float64\n",
       "Loan_Amount_Term     float64\n",
       "Credit_History       float64\n",
       "Property_Area         object\n",
       "Loan_Status           object\n",
       "dtype: object"
      ]
     },
     "execution_count": 14,
     "metadata": {},
     "output_type": "execute_result"
    }
   ],
   "source": [
    "df.dtypes"
   ]
  },
  {
   "cell_type": "code",
   "execution_count": 15,
   "id": "7e60d4d6-c84e-4c6a-a3e2-6daa4c702362",
   "metadata": {},
   "outputs": [
    {
     "data": {
      "text/plain": [
       "Loan_ID              category\n",
       "Gender               category\n",
       "Married              category\n",
       "Dependents           category\n",
       "Education            category\n",
       "Self_Employed        category\n",
       "ApplicantIncome         int64\n",
       "CoapplicantIncome       int64\n",
       "LoanAmount            float64\n",
       "Loan_Amount_Term      float64\n",
       "Credit_History        float64\n",
       "Property_Area        category\n",
       "Loan_Status          category\n",
       "dtype: object"
      ]
     },
     "execution_count": 15,
     "metadata": {},
     "output_type": "execute_result"
    }
   ],
   "source": [
    "# there is no date variable if its there we have to convert it to the datetime fuctions\n",
    "# convert categorical variavles dtype into category:\n",
    "\n",
    "categorical_vars=df.select_dtypes(include=['object'])\n",
    "for cols in categorical_vars:\n",
    "    df[cols]=df[cols].astype('category')\n",
    "\n",
    "df.dtypes"
   ]
  },
  {
   "cell_type": "code",
   "execution_count": 16,
   "id": "f212c1cb-936b-4b6c-8b62-1466f49aa10b",
   "metadata": {},
   "outputs": [],
   "source": [
    "# Detect string inconsistencies\n",
    "cate_cols=df.select_dtypes(include='category').columns\n",
    "for col in cate_cols:\n",
    "    df[col]=df[col].str.strip().str.title()"
   ]
  },
  {
   "cell_type": "code",
   "execution_count": 17,
   "id": "c52eddeb-ca02-43e0-84fb-c403cf3bf913",
   "metadata": {},
   "outputs": [
    {
     "data": {
      "text/html": [
       "<div>\n",
       "<style scoped>\n",
       "    .dataframe tbody tr th:only-of-type {\n",
       "        vertical-align: middle;\n",
       "    }\n",
       "\n",
       "    .dataframe tbody tr th {\n",
       "        vertical-align: top;\n",
       "    }\n",
       "\n",
       "    .dataframe thead th {\n",
       "        text-align: right;\n",
       "    }\n",
       "</style>\n",
       "<table border=\"1\" class=\"dataframe\">\n",
       "  <thead>\n",
       "    <tr style=\"text-align: right;\">\n",
       "      <th></th>\n",
       "      <th>Loan_ID</th>\n",
       "      <th>Gender</th>\n",
       "      <th>Married</th>\n",
       "      <th>Dependents</th>\n",
       "      <th>Education</th>\n",
       "      <th>Self_Employed</th>\n",
       "      <th>ApplicantIncome</th>\n",
       "      <th>CoapplicantIncome</th>\n",
       "      <th>LoanAmount</th>\n",
       "      <th>Loan_Amount_Term</th>\n",
       "      <th>Credit_History</th>\n",
       "      <th>Property_Area</th>\n",
       "      <th>Loan_Status</th>\n",
       "    </tr>\n",
       "  </thead>\n",
       "  <tbody>\n",
       "    <tr>\n",
       "      <th>0</th>\n",
       "      <td>Lp001002</td>\n",
       "      <td>Male</td>\n",
       "      <td>Yes</td>\n",
       "      <td>0</td>\n",
       "      <td>Graduate</td>\n",
       "      <td>No</td>\n",
       "      <td>5849</td>\n",
       "      <td>0</td>\n",
       "      <td>128.0</td>\n",
       "      <td>360.0</td>\n",
       "      <td>1.000000</td>\n",
       "      <td>Urban</td>\n",
       "      <td>Y</td>\n",
       "    </tr>\n",
       "    <tr>\n",
       "      <th>1</th>\n",
       "      <td>Lp001003</td>\n",
       "      <td>Male</td>\n",
       "      <td>Yes</td>\n",
       "      <td>1</td>\n",
       "      <td>Graduate</td>\n",
       "      <td>No</td>\n",
       "      <td>4583</td>\n",
       "      <td>1508</td>\n",
       "      <td>128.0</td>\n",
       "      <td>360.0</td>\n",
       "      <td>1.000000</td>\n",
       "      <td>Urban</td>\n",
       "      <td>Y</td>\n",
       "    </tr>\n",
       "    <tr>\n",
       "      <th>2</th>\n",
       "      <td>Lp001005</td>\n",
       "      <td>Male</td>\n",
       "      <td>Yes</td>\n",
       "      <td>0</td>\n",
       "      <td>Graduate</td>\n",
       "      <td>Yes</td>\n",
       "      <td>3000</td>\n",
       "      <td>0</td>\n",
       "      <td>66.0</td>\n",
       "      <td>360.0</td>\n",
       "      <td>1.000000</td>\n",
       "      <td>Rural</td>\n",
       "      <td>N</td>\n",
       "    </tr>\n",
       "    <tr>\n",
       "      <th>3</th>\n",
       "      <td>Lp001006</td>\n",
       "      <td>Female</td>\n",
       "      <td>No</td>\n",
       "      <td>0</td>\n",
       "      <td>Graduate</td>\n",
       "      <td>No</td>\n",
       "      <td>2583</td>\n",
       "      <td>2358</td>\n",
       "      <td>120.0</td>\n",
       "      <td>360.0</td>\n",
       "      <td>0.833333</td>\n",
       "      <td>Semiurban</td>\n",
       "      <td>Y</td>\n",
       "    </tr>\n",
       "    <tr>\n",
       "      <th>4</th>\n",
       "      <td>Lp001008</td>\n",
       "      <td>Male</td>\n",
       "      <td>Yes</td>\n",
       "      <td>1</td>\n",
       "      <td>Graduate</td>\n",
       "      <td>No</td>\n",
       "      <td>6000</td>\n",
       "      <td>0</td>\n",
       "      <td>141.0</td>\n",
       "      <td>360.0</td>\n",
       "      <td>1.000000</td>\n",
       "      <td>Urban</td>\n",
       "      <td>Y</td>\n",
       "    </tr>\n",
       "  </tbody>\n",
       "</table>\n",
       "</div>"
      ],
      "text/plain": [
       "    Loan_ID  Gender Married Dependents Education Self_Employed  \\\n",
       "0  Lp001002    Male     Yes          0  Graduate            No   \n",
       "1  Lp001003    Male     Yes          1  Graduate            No   \n",
       "2  Lp001005    Male     Yes          0  Graduate           Yes   \n",
       "3  Lp001006  Female      No          0  Graduate            No   \n",
       "4  Lp001008    Male     Yes          1  Graduate            No   \n",
       "\n",
       "   ApplicantIncome  CoapplicantIncome  LoanAmount  Loan_Amount_Term  \\\n",
       "0             5849                  0       128.0             360.0   \n",
       "1             4583               1508       128.0             360.0   \n",
       "2             3000                  0        66.0             360.0   \n",
       "3             2583               2358       120.0             360.0   \n",
       "4             6000                  0       141.0             360.0   \n",
       "\n",
       "   Credit_History Property_Area Loan_Status  \n",
       "0        1.000000         Urban           Y  \n",
       "1        1.000000         Urban           Y  \n",
       "2        1.000000         Rural           N  \n",
       "3        0.833333     Semiurban           Y  \n",
       "4        1.000000         Urban           Y  "
      ]
     },
     "execution_count": 17,
     "metadata": {},
     "output_type": "execute_result"
    }
   ],
   "source": [
    "df.head()"
   ]
  },
  {
   "cell_type": "code",
   "execution_count": 18,
   "id": "0aad4f83-fe2b-4f39-984b-043b97739d6a",
   "metadata": {},
   "outputs": [
    {
     "data": {
      "image/png": "[encoded data removed]",
      "text/plain": [
       "<Figure size 600x300 with 1 Axes>"
      ]
     },
     "metadata": {},
     "output_type": "display_data"
    },
    {
     "data": {
      "image/png": "[encoded data removed]",
      "text/plain": [
       "<Figure size 600x300 with 1 Axes>"
      ]
     },
     "metadata": {},
     "output_type": "display_data"
    },
    {
     "data": {
      "image/png": "[encoded data removed]",
      "text/plain": [
       "<Figure size 600x300 with 1 Axes>"
      ]
     },
     "metadata": {},
     "output_type": "display_data"
    },
    {
     "data": {
      "image/png": "[encoded data removed]",
      "text/plain": [
       "<Figure size 600x300 with 1 Axes>"
      ]
     },
     "metadata": {},
     "output_type": "display_data"
    },
    {
     "data": {
      "image/png": "[encoded data removed]",
      "text/plain": [
       "<Figure size 600x300 with 1 Axes>"
      ]
     },
     "metadata": {},
     "output_type": "display_data"
    }
   ],
   "source": [
    "# Check numeric feature distributions\n",
    "# Purpose: Identify skewness, scaling needs, and outliers\n",
    "\n",
    "num_cols=df.select_dtypes(include=['int64','float64']).columns\n",
    "for col in num_cols:\n",
    "    plt.figure(figsize=(6,3))\n",
    "    sns.histplot(df[col],kde=True)\n",
    "    plt.title(f'Distribution of {col}')\n",
    "    plt.show()\n"
   ]
  },
  {
   "cell_type": "markdown",
   "id": "28c03e54-5ee8-4888-8d8c-41bb394fefcd",
   "metadata": {},
   "source": [
    "# ***Encoding Categorical Variables***"
   ]
  },
  {
   "cell_type": "code",
   "execution_count": 19,
   "id": "a2a4b29b-c04c-4493-89b2-3239fdfd2421",
   "metadata": {},
   "outputs": [
    {
     "data": {
      "text/plain": [
       "['Loan_ID',\n",
       " 'Gender',\n",
       " 'Married',\n",
       " 'Dependents',\n",
       " 'Education',\n",
       " 'Self_Employed',\n",
       " 'Property_Area',\n",
       " 'Loan_Status']"
      ]
     },
     "execution_count": 19,
     "metadata": {},
     "output_type": "execute_result"
    }
   ],
   "source": [
    "df.select_dtypes(include='object').columns.tolist()"
   ]
  },
  {
   "cell_type": "markdown",
   "id": "abd5e5df-1ebf-4e49-a0bc-98d834584898",
   "metadata": {},
   "source": [
    "this are all the categorical variables we have to convert all of them into numerical values for the ml models by using diff methods"
   ]
  },
  {
   "cell_type": "markdown",
   "id": "c6da02b5-c1fd-4345-8832-7ef91e7dac1c",
   "metadata": {},
   "source": [
    "# 1.One-Hot Encoding (Nominal Features)"
   ]
  },
  {
   "cell_type": "markdown",
   "id": "3c8e0e41-8dfa-4e51-bd94-9d52d20c9735",
   "metadata": {},
   "source": [
    "Nominal features have no inherent order (e.g., Property_Area = Urban, Rural, Semiurban).\n",
    "\n",
    "Machine learning models cannot directly understand text.\n",
    "\n",
    "One-Hot Encoding (OHE) converts each unique category into its own binary column (0 or 1)."
   ]
  },
  {
   "cell_type": "code",
   "execution_count": 20,
   "id": "a4c9c966-5e14-41eb-97d2-3f23a852216b",
   "metadata": {},
   "outputs": [],
   "source": [
    "# OHE for property_area:\n",
    "encoded_df=pd.get_dummies(df,columns=['Property_Area'],drop_first=True)"
   ]
  },
  {
   "cell_type": "code",
   "execution_count": 21,
   "id": "5e586a64-96de-4d5e-aaea-09a0accc429c",
   "metadata": {},
   "outputs": [],
   "source": [
    "# OHE on gender:\n",
    "encoded_df=pd.get_dummies(df,columns=['Gender'],prefix='Gender',dummy_na=False,drop_first=True)"
   ]
  },
  {
   "cell_type": "markdown",
   "id": "e0ff6bfc-34a4-44cd-a4b0-06bbf18dd0bd",
   "metadata": {},
   "source": [
    "# 2.Label Encoding (Ordinal Features)\n"
   ]
  },
  {
   "cell_type": "markdown",
   "id": "784dc0ef-acfd-4bda-887d-2e18844db95a",
   "metadata": {},
   "source": [
    "Ordinal features have a natural order.\n",
    "\n",
    "Example: Education = Not Graduate < Graduate\n",
    "\n",
    "In these cases, we replace categories with ordered integers."
   ]
  },
  {
   "cell_type": "code",
   "execution_count": 22,
   "id": "2b17e74b-4d22-4a7c-b232-dd500c937c38",
   "metadata": {},
   "outputs": [
    {
     "data": {
      "text/html": [
       "<div>\n",
       "<style scoped>\n",
       "    .dataframe tbody tr th:only-of-type {\n",
       "        vertical-align: middle;\n",
       "    }\n",
       "\n",
       "    .dataframe tbody tr th {\n",
       "        vertical-align: top;\n",
       "    }\n",
       "\n",
       "    .dataframe thead th {\n",
       "        text-align: right;\n",
       "    }\n",
       "</style>\n",
       "<table border=\"1\" class=\"dataframe\">\n",
       "  <thead>\n",
       "    <tr style=\"text-align: right;\">\n",
       "      <th></th>\n",
       "      <th>Education</th>\n",
       "      <th>Education_Encoded</th>\n",
       "    </tr>\n",
       "  </thead>\n",
       "  <tbody>\n",
       "    <tr>\n",
       "      <th>0</th>\n",
       "      <td>Graduate</td>\n",
       "      <td>1</td>\n",
       "    </tr>\n",
       "    <tr>\n",
       "      <th>1</th>\n",
       "      <td>Graduate</td>\n",
       "      <td>1</td>\n",
       "    </tr>\n",
       "    <tr>\n",
       "      <th>2</th>\n",
       "      <td>Graduate</td>\n",
       "      <td>1</td>\n",
       "    </tr>\n",
       "    <tr>\n",
       "      <th>3</th>\n",
       "      <td>Graduate</td>\n",
       "      <td>1</td>\n",
       "    </tr>\n",
       "    <tr>\n",
       "      <th>4</th>\n",
       "      <td>Graduate</td>\n",
       "      <td>1</td>\n",
       "    </tr>\n",
       "    <tr>\n",
       "      <th>5</th>\n",
       "      <td>Graduate</td>\n",
       "      <td>1</td>\n",
       "    </tr>\n",
       "    <tr>\n",
       "      <th>6</th>\n",
       "      <td>Graduate</td>\n",
       "      <td>1</td>\n",
       "    </tr>\n",
       "    <tr>\n",
       "      <th>7</th>\n",
       "      <td>Not Graduate</td>\n",
       "      <td>0</td>\n",
       "    </tr>\n",
       "  </tbody>\n",
       "</table>\n",
       "</div>"
      ],
      "text/plain": [
       "      Education  Education_Encoded\n",
       "0      Graduate                  1\n",
       "1      Graduate                  1\n",
       "2      Graduate                  1\n",
       "3      Graduate                  1\n",
       "4      Graduate                  1\n",
       "5      Graduate                  1\n",
       "6      Graduate                  1\n",
       "7  Not Graduate                  0"
      ]
     },
     "execution_count": 22,
     "metadata": {},
     "output_type": "execute_result"
    }
   ],
   "source": [
    "# we use mapping for this :\n",
    "\n",
    "edu_map={'Not Graduate':0,'Graduate':1}\n",
    "encoded_df['Education_Encoded']=df['Education'].map(edu_map)\n",
    "\n",
    "encoded_df[['Education','Education_Encoded']]"
   ]
  },
  {
   "cell_type": "markdown",
   "id": "5bfc191f-40a4-487b-bd15-3158e284f53d",
   "metadata": {},
   "source": [
    "# 3.Frequency Encoding (High-Cardinality Features)"
   ]
  },
  {
   "cell_type": "markdown",
   "id": "8b8c179f-1e08-4417-8414-4ad422666698",
   "metadata": {},
   "source": [
    "Some categorical features have too many unique categories (high cardinality).\n",
    "\n",
    "Example: City names, Zip codes, Product IDs.\n",
    "\n",
    "One-Hot Encoding for 500+ categories → hundreds of columns → huge, slow model.\n",
    "\n",
    "Frequency Encoding replaces each category with how often it appears in the dataset."
   ]
  },
  {
   "cell_type": "code",
   "execution_count": 23,
   "id": "e2211647-0036-4806-b66a-c13a79880cd8",
   "metadata": {},
   "outputs": [
    {
     "data": {
      "text/html": [
       "<div>\n",
       "<style scoped>\n",
       "    .dataframe tbody tr th:only-of-type {\n",
       "        vertical-align: middle;\n",
       "    }\n",
       "\n",
       "    .dataframe tbody tr th {\n",
       "        vertical-align: top;\n",
       "    }\n",
       "\n",
       "    .dataframe thead th {\n",
       "        text-align: right;\n",
       "    }\n",
       "</style>\n",
       "<table border=\"1\" class=\"dataframe\">\n",
       "  <thead>\n",
       "    <tr style=\"text-align: right;\">\n",
       "      <th></th>\n",
       "      <th>Property_Area</th>\n",
       "      <th>Property_Area_freq</th>\n",
       "    </tr>\n",
       "  </thead>\n",
       "  <tbody>\n",
       "    <tr>\n",
       "      <th>0</th>\n",
       "      <td>Urban</td>\n",
       "      <td>3</td>\n",
       "    </tr>\n",
       "    <tr>\n",
       "      <th>1</th>\n",
       "      <td>Urban</td>\n",
       "      <td>3</td>\n",
       "    </tr>\n",
       "    <tr>\n",
       "      <th>2</th>\n",
       "      <td>Rural</td>\n",
       "      <td>3</td>\n",
       "    </tr>\n",
       "    <tr>\n",
       "      <th>3</th>\n",
       "      <td>Semiurban</td>\n",
       "      <td>2</td>\n",
       "    </tr>\n",
       "    <tr>\n",
       "      <th>4</th>\n",
       "      <td>Urban</td>\n",
       "      <td>3</td>\n",
       "    </tr>\n",
       "  </tbody>\n",
       "</table>\n",
       "</div>"
      ],
      "text/plain": [
       "  Property_Area  Property_Area_freq\n",
       "0         Urban                   3\n",
       "1         Urban                   3\n",
       "2         Rural                   3\n",
       "3     Semiurban                   2\n",
       "4         Urban                   3"
      ]
     },
     "execution_count": 23,
     "metadata": {},
     "output_type": "execute_result"
    }
   ],
   "source": [
    "# we have to generate the map for the implementing the freq encoding :\n",
    "freq_map=encoded_df['Property_Area'].value_counts().to_dict()\n",
    "encoded_df['Property_Area_freq']=encoded_df['Property_Area'].map(freq_map)\n",
    "encoded_df[['Property_Area','Property_Area_freq']].head()"
   ]
  },
  {
   "cell_type": "markdown",
   "id": "9a8eacee-3553-4b57-8191-cced61dd7dba",
   "metadata": {},
   "source": [
    "# For Binary Varibles:\n"
   ]
  },
  {
   "cell_type": "markdown",
   "id": "5280bf00-500e-41f1-ac49-fdef20a5c36b",
   "metadata": {},
   "source": [
    "***we have to convert the binary values like yes /no or any two valued column into numerical column***"
   ]
  },
  {
   "cell_type": "code",
   "execution_count": 24,
   "id": "657a730f-b07b-4e00-87ec-ea13752b7f27",
   "metadata": {},
   "outputs": [],
   "source": [
    "# Load_status are binary:\n",
    "\n",
    "encoded_df['Loan_Status']=encoded_df['Loan_Status'].map({'Y':1,'N':0})\n",
    "encoded_df['Married']=encoded_df['Married'].map({'Yes':1,'No':0})\n",
    "encoded_df['Self_Employed']=encoded_df['Self_Employed'].map({'Yes':1,'No':0})"
   ]
  },
  {
   "cell_type": "code",
   "execution_count": 25,
   "id": "746b66c8-7b64-4d23-aedb-265068042c1f",
   "metadata": {},
   "outputs": [
    {
     "data": {
      "text/html": [
       "<div>\n",
       "<style scoped>\n",
       "    .dataframe tbody tr th:only-of-type {\n",
       "        vertical-align: middle;\n",
       "    }\n",
       "\n",
       "    .dataframe tbody tr th {\n",
       "        vertical-align: top;\n",
       "    }\n",
       "\n",
       "    .dataframe thead th {\n",
       "        text-align: right;\n",
       "    }\n",
       "</style>\n",
       "<table border=\"1\" class=\"dataframe\">\n",
       "  <thead>\n",
       "    <tr style=\"text-align: right;\">\n",
       "      <th></th>\n",
       "      <th>Loan_ID</th>\n",
       "      <th>Married</th>\n",
       "      <th>Dependents</th>\n",
       "      <th>Education</th>\n",
       "      <th>Self_Employed</th>\n",
       "      <th>ApplicantIncome</th>\n",
       "      <th>CoapplicantIncome</th>\n",
       "      <th>LoanAmount</th>\n",
       "      <th>Loan_Amount_Term</th>\n",
       "      <th>Credit_History</th>\n",
       "      <th>Property_Area</th>\n",
       "      <th>Loan_Status</th>\n",
       "      <th>Gender_Male</th>\n",
       "      <th>Gender_Unknown</th>\n",
       "      <th>Education_Encoded</th>\n",
       "      <th>Property_Area_freq</th>\n",
       "    </tr>\n",
       "  </thead>\n",
       "  <tbody>\n",
       "    <tr>\n",
       "      <th>0</th>\n",
       "      <td>Lp001002</td>\n",
       "      <td>1</td>\n",
       "      <td>0</td>\n",
       "      <td>Graduate</td>\n",
       "      <td>0</td>\n",
       "      <td>5849</td>\n",
       "      <td>0</td>\n",
       "      <td>128.0</td>\n",
       "      <td>360.0</td>\n",
       "      <td>1.000000</td>\n",
       "      <td>Urban</td>\n",
       "      <td>1</td>\n",
       "      <td>True</td>\n",
       "      <td>False</td>\n",
       "      <td>1</td>\n",
       "      <td>3</td>\n",
       "    </tr>\n",
       "    <tr>\n",
       "      <th>1</th>\n",
       "      <td>Lp001003</td>\n",
       "      <td>1</td>\n",
       "      <td>1</td>\n",
       "      <td>Graduate</td>\n",
       "      <td>0</td>\n",
       "      <td>4583</td>\n",
       "      <td>1508</td>\n",
       "      <td>128.0</td>\n",
       "      <td>360.0</td>\n",
       "      <td>1.000000</td>\n",
       "      <td>Urban</td>\n",
       "      <td>1</td>\n",
       "      <td>True</td>\n",
       "      <td>False</td>\n",
       "      <td>1</td>\n",
       "      <td>3</td>\n",
       "    </tr>\n",
       "    <tr>\n",
       "      <th>2</th>\n",
       "      <td>Lp001005</td>\n",
       "      <td>1</td>\n",
       "      <td>0</td>\n",
       "      <td>Graduate</td>\n",
       "      <td>1</td>\n",
       "      <td>3000</td>\n",
       "      <td>0</td>\n",
       "      <td>66.0</td>\n",
       "      <td>360.0</td>\n",
       "      <td>1.000000</td>\n",
       "      <td>Rural</td>\n",
       "      <td>0</td>\n",
       "      <td>True</td>\n",
       "      <td>False</td>\n",
       "      <td>1</td>\n",
       "      <td>3</td>\n",
       "    </tr>\n",
       "    <tr>\n",
       "      <th>3</th>\n",
       "      <td>Lp001006</td>\n",
       "      <td>0</td>\n",
       "      <td>0</td>\n",
       "      <td>Graduate</td>\n",
       "      <td>0</td>\n",
       "      <td>2583</td>\n",
       "      <td>2358</td>\n",
       "      <td>120.0</td>\n",
       "      <td>360.0</td>\n",
       "      <td>0.833333</td>\n",
       "      <td>Semiurban</td>\n",
       "      <td>1</td>\n",
       "      <td>False</td>\n",
       "      <td>False</td>\n",
       "      <td>1</td>\n",
       "      <td>2</td>\n",
       "    </tr>\n",
       "    <tr>\n",
       "      <th>4</th>\n",
       "      <td>Lp001008</td>\n",
       "      <td>1</td>\n",
       "      <td>1</td>\n",
       "      <td>Graduate</td>\n",
       "      <td>0</td>\n",
       "      <td>6000</td>\n",
       "      <td>0</td>\n",
       "      <td>141.0</td>\n",
       "      <td>360.0</td>\n",
       "      <td>1.000000</td>\n",
       "      <td>Urban</td>\n",
       "      <td>1</td>\n",
       "      <td>True</td>\n",
       "      <td>False</td>\n",
       "      <td>1</td>\n",
       "      <td>3</td>\n",
       "    </tr>\n",
       "    <tr>\n",
       "      <th>5</th>\n",
       "      <td>Lp001011</td>\n",
       "      <td>1</td>\n",
       "      <td>2</td>\n",
       "      <td>Graduate</td>\n",
       "      <td>0</td>\n",
       "      <td>5417</td>\n",
       "      <td>4196</td>\n",
       "      <td>267.0</td>\n",
       "      <td>360.0</td>\n",
       "      <td>1.000000</td>\n",
       "      <td>Semiurban</td>\n",
       "      <td>1</td>\n",
       "      <td>False</td>\n",
       "      <td>True</td>\n",
       "      <td>1</td>\n",
       "      <td>2</td>\n",
       "    </tr>\n",
       "    <tr>\n",
       "      <th>6</th>\n",
       "      <td>Lp001013</td>\n",
       "      <td>1</td>\n",
       "      <td>0</td>\n",
       "      <td>Graduate</td>\n",
       "      <td>0</td>\n",
       "      <td>2333</td>\n",
       "      <td>1516</td>\n",
       "      <td>95.0</td>\n",
       "      <td>360.0</td>\n",
       "      <td>0.833333</td>\n",
       "      <td>Rural</td>\n",
       "      <td>0</td>\n",
       "      <td>True</td>\n",
       "      <td>False</td>\n",
       "      <td>1</td>\n",
       "      <td>3</td>\n",
       "    </tr>\n",
       "    <tr>\n",
       "      <th>7</th>\n",
       "      <td>Lp001014</td>\n",
       "      <td>1</td>\n",
       "      <td>3+</td>\n",
       "      <td>Not Graduate</td>\n",
       "      <td>1</td>\n",
       "      <td>3036</td>\n",
       "      <td>2504</td>\n",
       "      <td>158.0</td>\n",
       "      <td>360.0</td>\n",
       "      <td>0.000000</td>\n",
       "      <td>Rural</td>\n",
       "      <td>0</td>\n",
       "      <td>True</td>\n",
       "      <td>False</td>\n",
       "      <td>0</td>\n",
       "      <td>3</td>\n",
       "    </tr>\n",
       "  </tbody>\n",
       "</table>\n",
       "</div>"
      ],
      "text/plain": [
       "    Loan_ID  Married Dependents     Education  Self_Employed  ApplicantIncome  \\\n",
       "0  Lp001002        1          0      Graduate              0             5849   \n",
       "1  Lp001003        1          1      Graduate              0             4583   \n",
       "2  Lp001005        1          0      Graduate              1             3000   \n",
       "3  Lp001006        0          0      Graduate              0             2583   \n",
       "4  Lp001008        1          1      Graduate              0             6000   \n",
       "5  Lp001011        1          2      Graduate              0             5417   \n",
       "6  Lp001013        1          0      Graduate              0             2333   \n",
       "7  Lp001014        1         3+  Not Graduate              1             3036   \n",
       "\n",
       "   CoapplicantIncome  LoanAmount  Loan_Amount_Term  Credit_History  \\\n",
       "0                  0       128.0             360.0        1.000000   \n",
       "1               1508       128.0             360.0        1.000000   \n",
       "2                  0        66.0             360.0        1.000000   \n",
       "3               2358       120.0             360.0        0.833333   \n",
       "4                  0       141.0             360.0        1.000000   \n",
       "5               4196       267.0             360.0        1.000000   \n",
       "6               1516        95.0             360.0        0.833333   \n",
       "7               2504       158.0             360.0        0.000000   \n",
       "\n",
       "  Property_Area  Loan_Status  Gender_Male  Gender_Unknown  Education_Encoded  \\\n",
       "0         Urban            1         True           False                  1   \n",
       "1         Urban            1         True           False                  1   \n",
       "2         Rural            0         True           False                  1   \n",
       "3     Semiurban            1        False           False                  1   \n",
       "4         Urban            1         True           False                  1   \n",
       "5     Semiurban            1        False            True                  1   \n",
       "6         Rural            0         True           False                  1   \n",
       "7         Rural            0         True           False                  0   \n",
       "\n",
       "   Property_Area_freq  \n",
       "0                   3  \n",
       "1                   3  \n",
       "2                   3  \n",
       "3                   2  \n",
       "4                   3  \n",
       "5                   2  \n",
       "6                   3  \n",
       "7                   3  "
      ]
     },
     "execution_count": 25,
     "metadata": {},
     "output_type": "execute_result"
    }
   ],
   "source": [
    "encoded_df"
   ]
  },
  {
   "cell_type": "markdown",
   "id": "b4828d52-5519-49d0-97da-8173eea15535",
   "metadata": {},
   "source": [
    "# 4.Target Encoding"
   ]
  },
  {
   "cell_type": "markdown",
   "id": "6d9b3b7e-6c97-431e-82e0-1e4cdec447ee",
   "metadata": {},
   "source": [
    "Target Encoding replaces each category in a feature with the mean of the target variable for that category.\n",
    "\n",
    "This is super useful when:\n",
    "\n",
    "You have high-cardinality categorical features.\n",
    "\n",
    "There’s a clear relationship between category and target."
   ]
  },
  {
   "cell_type": "markdown",
   "id": "5aed2a60-c120-45dd-b28b-a3bdcd4c9ea3",
   "metadata": {},
   "source": [
    "❌ If you calculate target means using the entire dataset before splitting train/test,\n",
    "your model will “see” information from the test set during training → overfitting."
   ]
  },
  {
   "cell_type": "markdown",
   "id": "93763df8-09e7-481c-b15c-2d14dec66b5c",
   "metadata": {},
   "source": [
    "Always calculate target means only on the training set.\n",
    "\n",
    "Apply them to the test set separately.\n",
    "\n"
   ]
  },
  {
   "cell_type": "code",
   "execution_count": 26,
   "id": "cb19f15c-117f-41c2-a190-24b616528a66",
   "metadata": {},
   "outputs": [],
   "source": [
    "from sklearn.model_selection import train_test_split"
   ]
  },
  {
   "cell_type": "code",
   "execution_count": 27,
   "id": "6e5012a0-8262-49f8-b72b-079df09babfa",
   "metadata": {},
   "outputs": [
    {
     "data": {
      "text/html": [
       "<div>\n",
       "<style scoped>\n",
       "    .dataframe tbody tr th:only-of-type {\n",
       "        vertical-align: middle;\n",
       "    }\n",
       "\n",
       "    .dataframe tbody tr th {\n",
       "        vertical-align: top;\n",
       "    }\n",
       "\n",
       "    .dataframe thead th {\n",
       "        text-align: right;\n",
       "    }\n",
       "</style>\n",
       "<table border=\"1\" class=\"dataframe\">\n",
       "  <thead>\n",
       "    <tr style=\"text-align: right;\">\n",
       "      <th></th>\n",
       "      <th>Property_Area</th>\n",
       "      <th>Property_Area_TE</th>\n",
       "    </tr>\n",
       "  </thead>\n",
       "  <tbody>\n",
       "    <tr>\n",
       "      <th>0</th>\n",
       "      <td>Urban</td>\n",
       "      <td>1.0</td>\n",
       "    </tr>\n",
       "    <tr>\n",
       "      <th>7</th>\n",
       "      <td>Rural</td>\n",
       "      <td>0.0</td>\n",
       "    </tr>\n",
       "    <tr>\n",
       "      <th>2</th>\n",
       "      <td>Rural</td>\n",
       "      <td>0.0</td>\n",
       "    </tr>\n",
       "    <tr>\n",
       "      <th>4</th>\n",
       "      <td>Urban</td>\n",
       "      <td>1.0</td>\n",
       "    </tr>\n",
       "    <tr>\n",
       "      <th>3</th>\n",
       "      <td>Semiurban</td>\n",
       "      <td>1.0</td>\n",
       "    </tr>\n",
       "  </tbody>\n",
       "</table>\n",
       "</div>"
      ],
      "text/plain": [
       "  Property_Area  Property_Area_TE\n",
       "0         Urban               1.0\n",
       "7         Rural               0.0\n",
       "2         Rural               0.0\n",
       "4         Urban               1.0\n",
       "3     Semiurban               1.0"
      ]
     },
     "execution_count": 27,
     "metadata": {},
     "output_type": "execute_result"
    }
   ],
   "source": [
    "train_df,test_df=train_test_split(encoded_df,test_size=0.2,random_state=42)\n",
    "\n",
    "# target_means=train_df.groupby('Property_Area')['Loan_Status'].mean()\n",
    "target_means =train_df.groupby('Property_Area')['Loan_Status'].mean()\n",
    "\n",
    "train_df['Property_Area_TE']=train_df['Property_Area'].map(target_means)\n",
    "test_df['Property_Area_TE']=test_df['Property_Area'].map(target_means)\n",
    "\n",
    "train_df[['Property_Area','Property_Area_TE']].head()"
   ]
  },
  {
   "cell_type": "code",
   "execution_count": 28,
   "id": "8f6f27e8-1a09-465e-87dd-bc656b2215ed",
   "metadata": {},
   "outputs": [
    {
     "data": {
      "text/html": [
       "<div>\n",
       "<style scoped>\n",
       "    .dataframe tbody tr th:only-of-type {\n",
       "        vertical-align: middle;\n",
       "    }\n",
       "\n",
       "    .dataframe tbody tr th {\n",
       "        vertical-align: top;\n",
       "    }\n",
       "\n",
       "    .dataframe thead th {\n",
       "        text-align: right;\n",
       "    }\n",
       "</style>\n",
       "<table border=\"1\" class=\"dataframe\">\n",
       "  <thead>\n",
       "    <tr style=\"text-align: right;\">\n",
       "      <th></th>\n",
       "      <th>Married</th>\n",
       "      <th>Married_TE</th>\n",
       "    </tr>\n",
       "  </thead>\n",
       "  <tbody>\n",
       "    <tr>\n",
       "      <th>0</th>\n",
       "      <td>1</td>\n",
       "      <td>0.4</td>\n",
       "    </tr>\n",
       "    <tr>\n",
       "      <th>7</th>\n",
       "      <td>1</td>\n",
       "      <td>0.4</td>\n",
       "    </tr>\n",
       "    <tr>\n",
       "      <th>2</th>\n",
       "      <td>1</td>\n",
       "      <td>0.4</td>\n",
       "    </tr>\n",
       "    <tr>\n",
       "      <th>4</th>\n",
       "      <td>1</td>\n",
       "      <td>0.4</td>\n",
       "    </tr>\n",
       "    <tr>\n",
       "      <th>3</th>\n",
       "      <td>0</td>\n",
       "      <td>1.0</td>\n",
       "    </tr>\n",
       "    <tr>\n",
       "      <th>6</th>\n",
       "      <td>1</td>\n",
       "      <td>0.4</td>\n",
       "    </tr>\n",
       "  </tbody>\n",
       "</table>\n",
       "</div>"
      ],
      "text/plain": [
       "   Married  Married_TE\n",
       "0        1         0.4\n",
       "7        1         0.4\n",
       "2        1         0.4\n",
       "4        1         0.4\n",
       "3        0         1.0\n",
       "6        1         0.4"
      ]
     },
     "execution_count": 28,
     "metadata": {},
     "output_type": "execute_result"
    }
   ],
   "source": [
    "train_df,test_df=train_test_split(encoded_df,test_size=0.2,random_state=42)\n",
    "\n",
    "target_means=train_df.groupby('Married')['Loan_Status'].mean()\n",
    "train_df['Married_TE']=train_df['Married'].map(target_means)\n",
    "test_df['Married_TE']=test_df['Married'].map(target_means)\n",
    "\n",
    "train_df[['Married','Married_TE']]"
   ]
  },
  {
   "cell_type": "markdown",
   "id": "5a90a0e8-6836-4510-a3cf-69e32398bf6c",
   "metadata": {},
   "source": []
  },
  {
   "cell_type": "markdown",
   "id": "ae62cd60-cd3e-4289-80c3-ea29d2f519d6",
   "metadata": {},
   "source": [
    "# Scaling & Normalization"
   ]
  },
  {
   "cell_type": "markdown",
   "id": "4cee345b-1e37-47db-9ab1-708d766b71ae",
   "metadata": {},
   "source": [
    "#### scaling is important to give model standard information other wise models wighs the featuer according to their magnitude\n",
    "\n",
    "ApplicantIncome ranges: 2000–50000\n",
    "\n",
    "LoanAmount ranges: 50–700\n",
    "\n",
    "Credit_History ranges: 0–1\n",
    "👉 Without scaling, models like Logistic Regression will weigh ApplicantIncome much higher by magnitude alone."
   ]
  },
  {
   "cell_type": "markdown",
   "id": "f2bcc277-0250-4554-a498-48d6217d5655",
   "metadata": {},
   "source": [
    "#  Standardization  (Z-score scaling)"
   ]
  },
  {
   "cell_type": "code",
   "execution_count": 29,
   "id": "347e26d4-6cec-4e1b-a9a1-687dc500c96a",
   "metadata": {},
   "outputs": [
    {
     "data": {
      "text/plain": [
       "Loan_ID               object\n",
       "Gender                object\n",
       "Married               object\n",
       "Dependents            object\n",
       "Education             object\n",
       "Self_Employed         object\n",
       "ApplicantIncome        int64\n",
       "CoapplicantIncome      int64\n",
       "LoanAmount           float64\n",
       "Loan_Amount_Term     float64\n",
       "Credit_History       float64\n",
       "Property_Area         object\n",
       "Loan_Status           object\n",
       "dtype: object"
      ]
     },
     "execution_count": 29,
     "metadata": {},
     "output_type": "execute_result"
    }
   ],
   "source": [
    "# we have to apply the scaling and normalizing methods on the numerical type variables:\n",
    "df.select_dtypes(include=['int64','float64']).columns.tolist()\n",
    "df.dtypes"
   ]
  },
  {
   "cell_type": "markdown",
   "id": "d67cd8eb-7e1a-4dfb-8beb-433991138568",
   "metadata": {},
   "source": [
    "so we have to apply the scaling and normalization on the above variables"
   ]
  },
  {
   "cell_type": "code",
   "execution_count": 30,
   "id": "0fba9ad7-fcf9-4773-9f73-342ff688d17c",
   "metadata": {},
   "outputs": [
    {
     "data": {
      "text/html": [
       "<div>\n",
       "<style scoped>\n",
       "    .dataframe tbody tr th:only-of-type {\n",
       "        vertical-align: middle;\n",
       "    }\n",
       "\n",
       "    .dataframe tbody tr th {\n",
       "        vertical-align: top;\n",
       "    }\n",
       "\n",
       "    .dataframe thead th {\n",
       "        text-align: right;\n",
       "    }\n",
       "</style>\n",
       "<table border=\"1\" class=\"dataframe\">\n",
       "  <thead>\n",
       "    <tr style=\"text-align: right;\">\n",
       "      <th></th>\n",
       "      <th>Loan_ID</th>\n",
       "      <th>Married</th>\n",
       "      <th>Dependents</th>\n",
       "      <th>Education</th>\n",
       "      <th>Self_Employed</th>\n",
       "      <th>ApplicantIncome</th>\n",
       "      <th>CoapplicantIncome</th>\n",
       "      <th>LoanAmount</th>\n",
       "      <th>Loan_Amount_Term</th>\n",
       "      <th>Credit_History</th>\n",
       "      <th>Property_Area</th>\n",
       "      <th>Loan_Status</th>\n",
       "      <th>Gender_Male</th>\n",
       "      <th>Gender_Unknown</th>\n",
       "      <th>Education_Encoded</th>\n",
       "      <th>Property_Area_freq</th>\n",
       "    </tr>\n",
       "  </thead>\n",
       "  <tbody>\n",
       "    <tr>\n",
       "      <th>0</th>\n",
       "      <td>Lp001002</td>\n",
       "      <td>1</td>\n",
       "      <td>0</td>\n",
       "      <td>Graduate</td>\n",
       "      <td>0</td>\n",
       "      <td>5849</td>\n",
       "      <td>0</td>\n",
       "      <td>128.0</td>\n",
       "      <td>360.0</td>\n",
       "      <td>1.000000</td>\n",
       "      <td>Urban</td>\n",
       "      <td>1</td>\n",
       "      <td>True</td>\n",
       "      <td>False</td>\n",
       "      <td>1</td>\n",
       "      <td>3</td>\n",
       "    </tr>\n",
       "    <tr>\n",
       "      <th>1</th>\n",
       "      <td>Lp001003</td>\n",
       "      <td>1</td>\n",
       "      <td>1</td>\n",
       "      <td>Graduate</td>\n",
       "      <td>0</td>\n",
       "      <td>4583</td>\n",
       "      <td>1508</td>\n",
       "      <td>128.0</td>\n",
       "      <td>360.0</td>\n",
       "      <td>1.000000</td>\n",
       "      <td>Urban</td>\n",
       "      <td>1</td>\n",
       "      <td>True</td>\n",
       "      <td>False</td>\n",
       "      <td>1</td>\n",
       "      <td>3</td>\n",
       "    </tr>\n",
       "    <tr>\n",
       "      <th>2</th>\n",
       "      <td>Lp001005</td>\n",
       "      <td>1</td>\n",
       "      <td>0</td>\n",
       "      <td>Graduate</td>\n",
       "      <td>1</td>\n",
       "      <td>3000</td>\n",
       "      <td>0</td>\n",
       "      <td>66.0</td>\n",
       "      <td>360.0</td>\n",
       "      <td>1.000000</td>\n",
       "      <td>Rural</td>\n",
       "      <td>0</td>\n",
       "      <td>True</td>\n",
       "      <td>False</td>\n",
       "      <td>1</td>\n",
       "      <td>3</td>\n",
       "    </tr>\n",
       "    <tr>\n",
       "      <th>3</th>\n",
       "      <td>Lp001006</td>\n",
       "      <td>0</td>\n",
       "      <td>0</td>\n",
       "      <td>Graduate</td>\n",
       "      <td>0</td>\n",
       "      <td>2583</td>\n",
       "      <td>2358</td>\n",
       "      <td>120.0</td>\n",
       "      <td>360.0</td>\n",
       "      <td>0.833333</td>\n",
       "      <td>Semiurban</td>\n",
       "      <td>1</td>\n",
       "      <td>False</td>\n",
       "      <td>False</td>\n",
       "      <td>1</td>\n",
       "      <td>2</td>\n",
       "    </tr>\n",
       "    <tr>\n",
       "      <th>4</th>\n",
       "      <td>Lp001008</td>\n",
       "      <td>1</td>\n",
       "      <td>1</td>\n",
       "      <td>Graduate</td>\n",
       "      <td>0</td>\n",
       "      <td>6000</td>\n",
       "      <td>0</td>\n",
       "      <td>141.0</td>\n",
       "      <td>360.0</td>\n",
       "      <td>1.000000</td>\n",
       "      <td>Urban</td>\n",
       "      <td>1</td>\n",
       "      <td>True</td>\n",
       "      <td>False</td>\n",
       "      <td>1</td>\n",
       "      <td>3</td>\n",
       "    </tr>\n",
       "    <tr>\n",
       "      <th>5</th>\n",
       "      <td>Lp001011</td>\n",
       "      <td>1</td>\n",
       "      <td>2</td>\n",
       "      <td>Graduate</td>\n",
       "      <td>0</td>\n",
       "      <td>5417</td>\n",
       "      <td>4196</td>\n",
       "      <td>267.0</td>\n",
       "      <td>360.0</td>\n",
       "      <td>1.000000</td>\n",
       "      <td>Semiurban</td>\n",
       "      <td>1</td>\n",
       "      <td>False</td>\n",
       "      <td>True</td>\n",
       "      <td>1</td>\n",
       "      <td>2</td>\n",
       "    </tr>\n",
       "    <tr>\n",
       "      <th>6</th>\n",
       "      <td>Lp001013</td>\n",
       "      <td>1</td>\n",
       "      <td>0</td>\n",
       "      <td>Graduate</td>\n",
       "      <td>0</td>\n",
       "      <td>2333</td>\n",
       "      <td>1516</td>\n",
       "      <td>95.0</td>\n",
       "      <td>360.0</td>\n",
       "      <td>0.833333</td>\n",
       "      <td>Rural</td>\n",
       "      <td>0</td>\n",
       "      <td>True</td>\n",
       "      <td>False</td>\n",
       "      <td>1</td>\n",
       "      <td>3</td>\n",
       "    </tr>\n",
       "    <tr>\n",
       "      <th>7</th>\n",
       "      <td>Lp001014</td>\n",
       "      <td>1</td>\n",
       "      <td>3+</td>\n",
       "      <td>Not Graduate</td>\n",
       "      <td>1</td>\n",
       "      <td>3036</td>\n",
       "      <td>2504</td>\n",
       "      <td>158.0</td>\n",
       "      <td>360.0</td>\n",
       "      <td>0.000000</td>\n",
       "      <td>Rural</td>\n",
       "      <td>0</td>\n",
       "      <td>True</td>\n",
       "      <td>False</td>\n",
       "      <td>0</td>\n",
       "      <td>3</td>\n",
       "    </tr>\n",
       "  </tbody>\n",
       "</table>\n",
       "</div>"
      ],
      "text/plain": [
       "    Loan_ID  Married Dependents     Education  Self_Employed  ApplicantIncome  \\\n",
       "0  Lp001002        1          0      Graduate              0             5849   \n",
       "1  Lp001003        1          1      Graduate              0             4583   \n",
       "2  Lp001005        1          0      Graduate              1             3000   \n",
       "3  Lp001006        0          0      Graduate              0             2583   \n",
       "4  Lp001008        1          1      Graduate              0             6000   \n",
       "5  Lp001011        1          2      Graduate              0             5417   \n",
       "6  Lp001013        1          0      Graduate              0             2333   \n",
       "7  Lp001014        1         3+  Not Graduate              1             3036   \n",
       "\n",
       "   CoapplicantIncome  LoanAmount  Loan_Amount_Term  Credit_History  \\\n",
       "0                  0       128.0             360.0        1.000000   \n",
       "1               1508       128.0             360.0        1.000000   \n",
       "2                  0        66.0             360.0        1.000000   \n",
       "3               2358       120.0             360.0        0.833333   \n",
       "4                  0       141.0             360.0        1.000000   \n",
       "5               4196       267.0             360.0        1.000000   \n",
       "6               1516        95.0             360.0        0.833333   \n",
       "7               2504       158.0             360.0        0.000000   \n",
       "\n",
       "  Property_Area  Loan_Status  Gender_Male  Gender_Unknown  Education_Encoded  \\\n",
       "0         Urban            1         True           False                  1   \n",
       "1         Urban            1         True           False                  1   \n",
       "2         Rural            0         True           False                  1   \n",
       "3     Semiurban            1        False           False                  1   \n",
       "4         Urban            1         True           False                  1   \n",
       "5     Semiurban            1        False            True                  1   \n",
       "6         Rural            0         True           False                  1   \n",
       "7         Rural            0         True           False                  0   \n",
       "\n",
       "   Property_Area_freq  \n",
       "0                   3  \n",
       "1                   3  \n",
       "2                   3  \n",
       "3                   2  \n",
       "4                   3  \n",
       "5                   2  \n",
       "6                   3  \n",
       "7                   3  "
      ]
     },
     "execution_count": 30,
     "metadata": {},
     "output_type": "execute_result"
    }
   ],
   "source": [
    "encoded_df"
   ]
  },
  {
   "cell_type": "code",
   "execution_count": 31,
   "id": "10d7b22c-165f-4ece-af02-cce9a5e69432",
   "metadata": {},
   "outputs": [],
   "source": [
    "from sklearn.preprocessing import StandardScaler"
   ]
  },
  {
   "cell_type": "code",
   "execution_count": 32,
   "id": "3b73c5ed-cf9a-44b9-9855-2481b00f475b",
   "metadata": {},
   "outputs": [
    {
     "data": {
      "text/html": [
       "<div>\n",
       "<style scoped>\n",
       "    .dataframe tbody tr th:only-of-type {\n",
       "        vertical-align: middle;\n",
       "    }\n",
       "\n",
       "    .dataframe tbody tr th {\n",
       "        vertical-align: top;\n",
       "    }\n",
       "\n",
       "    .dataframe thead th {\n",
       "        text-align: right;\n",
       "    }\n",
       "</style>\n",
       "<table border=\"1\" class=\"dataframe\">\n",
       "  <thead>\n",
       "    <tr style=\"text-align: right;\">\n",
       "      <th></th>\n",
       "      <th>ApplicantIncome_scaled</th>\n",
       "      <th>LoanAmount_scaled</th>\n",
       "    </tr>\n",
       "  </thead>\n",
       "  <tbody>\n",
       "    <tr>\n",
       "      <th>0</th>\n",
       "      <td>1.221376</td>\n",
       "      <td>-0.178055</td>\n",
       "    </tr>\n",
       "    <tr>\n",
       "      <th>1</th>\n",
       "      <td>0.337229</td>\n",
       "      <td>-0.178055</td>\n",
       "    </tr>\n",
       "    <tr>\n",
       "      <th>2</th>\n",
       "      <td>-0.768303</td>\n",
       "      <td>-1.295969</td>\n",
       "    </tr>\n",
       "    <tr>\n",
       "      <th>3</th>\n",
       "      <td>-1.059527</td>\n",
       "      <td>-0.322302</td>\n",
       "    </tr>\n",
       "    <tr>\n",
       "      <th>4</th>\n",
       "      <td>1.326831</td>\n",
       "      <td>0.056346</td>\n",
       "    </tr>\n",
       "  </tbody>\n",
       "</table>\n",
       "</div>"
      ],
      "text/plain": [
       "   ApplicantIncome_scaled  LoanAmount_scaled\n",
       "0                1.221376          -0.178055\n",
       "1                0.337229          -0.178055\n",
       "2               -0.768303          -1.295969\n",
       "3               -1.059527          -0.322302\n",
       "4                1.326831           0.056346"
      ]
     },
     "execution_count": 32,
     "metadata": {},
     "output_type": "execute_result"
    }
   ],
   "source": [
    "scaler=StandardScaler()\n",
    "encoded_df[['ApplicantIncome_scaled','LoanAmount_scaled']]=scaler.fit_transform(encoded_df[['ApplicantIncome','LoanAmount']])\n",
    "encoded_df[['ApplicantIncome_scaled','LoanAmount_scaled']].head()"
   ]
  },
  {
   "cell_type": "markdown",
   "id": "ec1a33a8-285a-4312-b8e8-e09c9ee89d54",
   "metadata": {},
   "source": [
    "we did in the above cell is:\n",
    "z= x−μ/σ\n",
    " \n",
    "where:\n",
    "x = original value\n",
    "μ = mean of the column\n",
    "σ = standard deviation of the column\n",
    "\n",
    "this formula in code so that the values we get is btw 1 and -1 with mean=0"
   ]
  },
  {
   "cell_type": "markdown",
   "id": "6677dd06-a0f1-454e-b146-fac042c22c93",
   "metadata": {},
   "source": [
    "Use when:\n",
    "\n",
    "Data is roughly normally distributed (bell-shaped)\n",
    "\n",
    "Models are distance-based or linear models\n",
    "\n",
    "Don’t use for:\n",
    "\n",
    "Tree-based models (they don’t need scaling)\n"
   ]
  },
  {
   "cell_type": "code",
   "execution_count": null,
   "id": "1ba86063-b473-44c2-a773-99b2fbd95fb4",
   "metadata": {},
   "outputs": [],
   "source": []
  },
  {
   "cell_type": "markdown",
   "id": "4a06ba0a-f5a7-47ae-8dc4-8eb5e36996c6",
   "metadata": {},
   "source": [
    "# Min-Max Scaling (Normalization)"
   ]
  },
  {
   "cell_type": "markdown",
   "id": "27113e45-754e-4859-8fee-76c83a5aba9b",
   "metadata": {},
   "source": [
    "Min-Max Scaling rescales values so that the minimum becomes 0 and the maximum becomes 1 (or any range you set).\n",
    "\n",
    "Formula:\n",
    "          X'=X-Xmin/Xmax-Xmin\n",
    "\n",
    "\n"
   ]
  },
  {
   "cell_type": "markdown",
   "id": "f917f8ff-92db-440d-a080-24427f99eb57",
   "metadata": {},
   "source": [
    "This transforms every value relative to the min and max of that column."
   ]
  },
  {
   "cell_type": "code",
   "execution_count": 33,
   "id": "3feda2b2-8086-4e39-9e1e-c594844b5675",
   "metadata": {},
   "outputs": [],
   "source": [
    "from sklearn.preprocessing import MinMaxScaler"
   ]
  },
  {
   "cell_type": "code",
   "execution_count": 34,
   "id": "fab99ae8-6aa0-4756-a962-e91a7286448a",
   "metadata": {},
   "outputs": [
    {
     "data": {
      "text/html": [
       "<div>\n",
       "<style scoped>\n",
       "    .dataframe tbody tr th:only-of-type {\n",
       "        vertical-align: middle;\n",
       "    }\n",
       "\n",
       "    .dataframe tbody tr th {\n",
       "        vertical-align: top;\n",
       "    }\n",
       "\n",
       "    .dataframe thead th {\n",
       "        text-align: right;\n",
       "    }\n",
       "</style>\n",
       "<table border=\"1\" class=\"dataframe\">\n",
       "  <thead>\n",
       "    <tr style=\"text-align: right;\">\n",
       "      <th></th>\n",
       "      <th>ApplicantIncome_norm</th>\n",
       "      <th>LoanAmount_norm</th>\n",
       "    </tr>\n",
       "  </thead>\n",
       "  <tbody>\n",
       "    <tr>\n",
       "      <th>0</th>\n",
       "      <td>0.958822</td>\n",
       "      <td>0.308458</td>\n",
       "    </tr>\n",
       "    <tr>\n",
       "      <th>1</th>\n",
       "      <td>0.613581</td>\n",
       "      <td>0.308458</td>\n",
       "    </tr>\n",
       "    <tr>\n",
       "      <th>2</th>\n",
       "      <td>0.181893</td>\n",
       "      <td>0.000000</td>\n",
       "    </tr>\n",
       "    <tr>\n",
       "      <th>3</th>\n",
       "      <td>0.068176</td>\n",
       "      <td>0.268657</td>\n",
       "    </tr>\n",
       "    <tr>\n",
       "      <th>4</th>\n",
       "      <td>1.000000</td>\n",
       "      <td>0.373134</td>\n",
       "    </tr>\n",
       "  </tbody>\n",
       "</table>\n",
       "</div>"
      ],
      "text/plain": [
       "   ApplicantIncome_norm  LoanAmount_norm\n",
       "0              0.958822         0.308458\n",
       "1              0.613581         0.308458\n",
       "2              0.181893         0.000000\n",
       "3              0.068176         0.268657\n",
       "4              1.000000         0.373134"
      ]
     },
     "execution_count": 34,
     "metadata": {},
     "output_type": "execute_result"
    }
   ],
   "source": [
    "scaler=MinMaxScaler()\n",
    "encoded_df[[\"ApplicantIncome_norm\",\"LoanAmount_norm\"]]=scaler.fit_transform(encoded_df[[\"ApplicantIncome\",\"LoanAmount\"]])\n",
    "encoded_df[['ApplicantIncome_norm','LoanAmount_norm']].head()"
   ]
  },
  {
   "cell_type": "markdown",
   "id": "a9349adf-4e8e-4f29-bea8-e49bc9419ecc",
   "metadata": {},
   "source": [
    "# Robust Scaling "
   ]
  },
  {
   "cell_type": "code",
   "execution_count": 43,
   "id": "95497c73-6369-4fba-a89a-43c7a5ff5fbe",
   "metadata": {
    "jupyter": {
     "source_hidden": true
    }
   },
   "outputs": [],
   "source": [
    "from sklearn.preprocessing import RobustScaler"
   ]
  },
  {
   "cell_type": "markdown",
   "id": "eaa14f47-7694-4594-93c7-f56d9b21c96f",
   "metadata": {},
   "source": [
    "X′= X−Median\\IQR"
   ]
  },
  {
   "cell_type": "code",
   "execution_count": 47,
   "id": "322cffc1-70b3-4b7a-a4d7-cb3cf45bbcfd",
   "metadata": {},
   "outputs": [
    {
     "data": {
      "text/html": [
       "<div>\n",
       "<style scoped>\n",
       "    .dataframe tbody tr th:only-of-type {\n",
       "        vertical-align: middle;\n",
       "    }\n",
       "\n",
       "    .dataframe tbody tr th {\n",
       "        vertical-align: top;\n",
       "    }\n",
       "\n",
       "    .dataframe thead th {\n",
       "        text-align: right;\n",
       "    }\n",
       "</style>\n",
       "<table border=\"1\" class=\"dataframe\">\n",
       "  <thead>\n",
       "    <tr style=\"text-align: right;\">\n",
       "      <th></th>\n",
       "      <th>CoapplicantIncome_norm</th>\n",
       "    </tr>\n",
       "  </thead>\n",
       "  <tbody>\n",
       "    <tr>\n",
       "      <th>0</th>\n",
       "      <td>-0.631447</td>\n",
       "    </tr>\n",
       "    <tr>\n",
       "      <th>1</th>\n",
       "      <td>-0.001670</td>\n",
       "    </tr>\n",
       "    <tr>\n",
       "      <th>2</th>\n",
       "      <td>-0.631447</td>\n",
       "    </tr>\n",
       "    <tr>\n",
       "      <th>3</th>\n",
       "      <td>0.353310</td>\n",
       "    </tr>\n",
       "    <tr>\n",
       "      <th>4</th>\n",
       "      <td>-0.631447</td>\n",
       "    </tr>\n",
       "    <tr>\n",
       "      <th>5</th>\n",
       "      <td>1.120902</td>\n",
       "    </tr>\n",
       "    <tr>\n",
       "      <th>6</th>\n",
       "      <td>0.001670</td>\n",
       "    </tr>\n",
       "    <tr>\n",
       "      <th>7</th>\n",
       "      <td>0.414283</td>\n",
       "    </tr>\n",
       "  </tbody>\n",
       "</table>\n",
       "</div>"
      ],
      "text/plain": [
       "   CoapplicantIncome_norm\n",
       "0               -0.631447\n",
       "1               -0.001670\n",
       "2               -0.631447\n",
       "3                0.353310\n",
       "4               -0.631447\n",
       "5                1.120902\n",
       "6                0.001670\n",
       "7                0.414283"
      ]
     },
     "execution_count": 47,
     "metadata": {},
     "output_type": "execute_result"
    }
   ],
   "source": [
    "scaler=RobustScaler()\n",
    "encoded_df[['CoapplicantIncome_norm']]=scaler.fit_transform(encoded_df[['CoapplicantIncome']])\n",
    "encoded_df[['CoapplicantIncome_norm']]\n"
   ]
  },
  {
   "cell_type": "code",
   "execution_count": 56,
   "id": "224527a6-5484-4f67-8860-91195b5f8f29",
   "metadata": {},
   "outputs": [
    {
     "data": {
      "image/png": "[encoded data removed]",
      "text/plain": [
       "<Figure size 400x200 with 1 Axes>"
      ]
     },
     "metadata": {},
     "output_type": "display_data"
    }
   ],
   "source": [
    "plt.figure(figsize=(4,2))\n",
    "sns.histplot(data=encoded_df['CoapplicantIncome'])\n",
    "plt.title('Coapplicant_Income')\n",
    "plt.show()"
   ]
  },
  {
   "cell_type": "code",
   "execution_count": 57,
   "id": "6b73be8a-a3fe-4669-9212-bd55e2683727",
   "metadata": {},
   "outputs": [
    {
     "data": {
      "image/png": "[encoded data removed]",
      "text/plain": [
       "<Figure size 400x200 with 1 Axes>"
      ]
     },
     "metadata": {},
     "output_type": "display_data"
    }
   ],
   "source": [
    "plt.figure(figsize=(4,2))\n",
    "sns.histplot(data=encoded_df['CoapplicantIncome_norm'],bins=4)\n",
    "plt.title('Coapplicant_Income_norm')\n",
    "plt.show()"
   ]
  },
  {
   "cell_type": "markdown",
   "id": "d5e4988d-97b2-4700-8903-ab6347043db2",
   "metadata": {},
   "source": [
    "We can compare the values by histogram after each scaling and normalization"
   ]
  },
  {
   "cell_type": "markdown",
   "id": "363519a6-2821-49ee-af55-6f3dc9623406",
   "metadata": {},
   "source": [
    "# MaxAbsScaler"
   ]
  },
  {
   "cell_type": "code",
   "execution_count": 58,
   "id": "2d544307-a8b1-43cf-89e8-fae2eaad6487",
   "metadata": {},
   "outputs": [],
   "source": [
    "from sklearn.preprocessing import MaxAbsScaler"
   ]
  },
  {
   "cell_type": "code",
   "execution_count": 61,
   "id": "c98dcc24-c36a-4024-8d00-2eb424adb292",
   "metadata": {},
   "outputs": [
    {
     "data": {
      "text/html": [
       "<div>\n",
       "<style scoped>\n",
       "    .dataframe tbody tr th:only-of-type {\n",
       "        vertical-align: middle;\n",
       "    }\n",
       "\n",
       "    .dataframe tbody tr th {\n",
       "        vertical-align: top;\n",
       "    }\n",
       "\n",
       "    .dataframe thead th {\n",
       "        text-align: right;\n",
       "    }\n",
       "</style>\n",
       "<table border=\"1\" class=\"dataframe\">\n",
       "  <thead>\n",
       "    <tr style=\"text-align: right;\">\n",
       "      <th></th>\n",
       "      <th>ApplicantIncome_scaled</th>\n",
       "    </tr>\n",
       "  </thead>\n",
       "  <tbody>\n",
       "    <tr>\n",
       "      <th>0</th>\n",
       "      <td>0.974833</td>\n",
       "    </tr>\n",
       "    <tr>\n",
       "      <th>1</th>\n",
       "      <td>0.763833</td>\n",
       "    </tr>\n",
       "    <tr>\n",
       "      <th>2</th>\n",
       "      <td>0.500000</td>\n",
       "    </tr>\n",
       "    <tr>\n",
       "      <th>3</th>\n",
       "      <td>0.430500</td>\n",
       "    </tr>\n",
       "    <tr>\n",
       "      <th>4</th>\n",
       "      <td>1.000000</td>\n",
       "    </tr>\n",
       "    <tr>\n",
       "      <th>5</th>\n",
       "      <td>0.902833</td>\n",
       "    </tr>\n",
       "    <tr>\n",
       "      <th>6</th>\n",
       "      <td>0.388833</td>\n",
       "    </tr>\n",
       "    <tr>\n",
       "      <th>7</th>\n",
       "      <td>0.506000</td>\n",
       "    </tr>\n",
       "  </tbody>\n",
       "</table>\n",
       "</div>"
      ],
      "text/plain": [
       "   ApplicantIncome_scaled\n",
       "0                0.974833\n",
       "1                0.763833\n",
       "2                0.500000\n",
       "3                0.430500\n",
       "4                1.000000\n",
       "5                0.902833\n",
       "6                0.388833\n",
       "7                0.506000"
      ]
     },
     "execution_count": 61,
     "metadata": {},
     "output_type": "execute_result"
    }
   ],
   "source": [
    "scaler=MaxAbsScaler()\n",
    "encoded_df[['ApplicantIncome_scaled']]=scaler.fit_transform(encoded_df[['ApplicantIncome']])\n",
    "encoded_df[['ApplicantIncome_scaled']]"
   ]
  },
  {
   "cell_type": "code",
   "execution_count": 62,
   "id": "c677da50-bae8-47e8-b834-70ae71041477",
   "metadata": {},
   "outputs": [
    {
     "data": {
      "text/html": [
       "<div>\n",
       "<style scoped>\n",
       "    .dataframe tbody tr th:only-of-type {\n",
       "        vertical-align: middle;\n",
       "    }\n",
       "\n",
       "    .dataframe tbody tr th {\n",
       "        vertical-align: top;\n",
       "    }\n",
       "\n",
       "    .dataframe thead th {\n",
       "        text-align: right;\n",
       "    }\n",
       "</style>\n",
       "<table border=\"1\" class=\"dataframe\">\n",
       "  <thead>\n",
       "    <tr style=\"text-align: right;\">\n",
       "      <th></th>\n",
       "      <th>Loan_ID</th>\n",
       "      <th>Married</th>\n",
       "      <th>Dependents</th>\n",
       "      <th>Education</th>\n",
       "      <th>Self_Employed</th>\n",
       "      <th>ApplicantIncome</th>\n",
       "      <th>CoapplicantIncome</th>\n",
       "      <th>LoanAmount</th>\n",
       "      <th>Loan_Amount_Term</th>\n",
       "      <th>Credit_History</th>\n",
       "      <th>...</th>\n",
       "      <th>Loan_Status</th>\n",
       "      <th>Gender_Male</th>\n",
       "      <th>Gender_Unknown</th>\n",
       "      <th>Education_Encoded</th>\n",
       "      <th>Property_Area_freq</th>\n",
       "      <th>ApplicantIncome_scaled</th>\n",
       "      <th>LoanAmount_scaled</th>\n",
       "      <th>ApplicantIncome_norm</th>\n",
       "      <th>LoanAmount_norm</th>\n",
       "      <th>CoapplicantIncome_norm</th>\n",
       "    </tr>\n",
       "  </thead>\n",
       "  <tbody>\n",
       "    <tr>\n",
       "      <th>0</th>\n",
       "      <td>Lp001002</td>\n",
       "      <td>1</td>\n",
       "      <td>0</td>\n",
       "      <td>Graduate</td>\n",
       "      <td>0</td>\n",
       "      <td>5849</td>\n",
       "      <td>0</td>\n",
       "      <td>128.0</td>\n",
       "      <td>360.0</td>\n",
       "      <td>1.000000</td>\n",
       "      <td>...</td>\n",
       "      <td>1</td>\n",
       "      <td>True</td>\n",
       "      <td>False</td>\n",
       "      <td>1</td>\n",
       "      <td>3</td>\n",
       "      <td>0.974833</td>\n",
       "      <td>-0.178055</td>\n",
       "      <td>0.958822</td>\n",
       "      <td>0.308458</td>\n",
       "      <td>-0.631447</td>\n",
       "    </tr>\n",
       "    <tr>\n",
       "      <th>1</th>\n",
       "      <td>Lp001003</td>\n",
       "      <td>1</td>\n",
       "      <td>1</td>\n",
       "      <td>Graduate</td>\n",
       "      <td>0</td>\n",
       "      <td>4583</td>\n",
       "      <td>1508</td>\n",
       "      <td>128.0</td>\n",
       "      <td>360.0</td>\n",
       "      <td>1.000000</td>\n",
       "      <td>...</td>\n",
       "      <td>1</td>\n",
       "      <td>True</td>\n",
       "      <td>False</td>\n",
       "      <td>1</td>\n",
       "      <td>3</td>\n",
       "      <td>0.763833</td>\n",
       "      <td>-0.178055</td>\n",
       "      <td>0.613581</td>\n",
       "      <td>0.308458</td>\n",
       "      <td>-0.001670</td>\n",
       "    </tr>\n",
       "    <tr>\n",
       "      <th>2</th>\n",
       "      <td>Lp001005</td>\n",
       "      <td>1</td>\n",
       "      <td>0</td>\n",
       "      <td>Graduate</td>\n",
       "      <td>1</td>\n",
       "      <td>3000</td>\n",
       "      <td>0</td>\n",
       "      <td>66.0</td>\n",
       "      <td>360.0</td>\n",
       "      <td>1.000000</td>\n",
       "      <td>...</td>\n",
       "      <td>0</td>\n",
       "      <td>True</td>\n",
       "      <td>False</td>\n",
       "      <td>1</td>\n",
       "      <td>3</td>\n",
       "      <td>0.500000</td>\n",
       "      <td>-1.295969</td>\n",
       "      <td>0.181893</td>\n",
       "      <td>0.000000</td>\n",
       "      <td>-0.631447</td>\n",
       "    </tr>\n",
       "    <tr>\n",
       "      <th>3</th>\n",
       "      <td>Lp001006</td>\n",
       "      <td>0</td>\n",
       "      <td>0</td>\n",
       "      <td>Graduate</td>\n",
       "      <td>0</td>\n",
       "      <td>2583</td>\n",
       "      <td>2358</td>\n",
       "      <td>120.0</td>\n",
       "      <td>360.0</td>\n",
       "      <td>0.833333</td>\n",
       "      <td>...</td>\n",
       "      <td>1</td>\n",
       "      <td>False</td>\n",
       "      <td>False</td>\n",
       "      <td>1</td>\n",
       "      <td>2</td>\n",
       "      <td>0.430500</td>\n",
       "      <td>-0.322302</td>\n",
       "      <td>0.068176</td>\n",
       "      <td>0.268657</td>\n",
       "      <td>0.353310</td>\n",
       "    </tr>\n",
       "    <tr>\n",
       "      <th>4</th>\n",
       "      <td>Lp001008</td>\n",
       "      <td>1</td>\n",
       "      <td>1</td>\n",
       "      <td>Graduate</td>\n",
       "      <td>0</td>\n",
       "      <td>6000</td>\n",
       "      <td>0</td>\n",
       "      <td>141.0</td>\n",
       "      <td>360.0</td>\n",
       "      <td>1.000000</td>\n",
       "      <td>...</td>\n",
       "      <td>1</td>\n",
       "      <td>True</td>\n",
       "      <td>False</td>\n",
       "      <td>1</td>\n",
       "      <td>3</td>\n",
       "      <td>1.000000</td>\n",
       "      <td>0.056346</td>\n",
       "      <td>1.000000</td>\n",
       "      <td>0.373134</td>\n",
       "      <td>-0.631447</td>\n",
       "    </tr>\n",
       "  </tbody>\n",
       "</table>\n",
       "<p>5 rows × 21 columns</p>\n",
       "</div>"
      ],
      "text/plain": [
       "    Loan_ID  Married Dependents Education  Self_Employed  ApplicantIncome  \\\n",
       "0  Lp001002        1          0  Graduate              0             5849   \n",
       "1  Lp001003        1          1  Graduate              0             4583   \n",
       "2  Lp001005        1          0  Graduate              1             3000   \n",
       "3  Lp001006        0          0  Graduate              0             2583   \n",
       "4  Lp001008        1          1  Graduate              0             6000   \n",
       "\n",
       "   CoapplicantIncome  LoanAmount  Loan_Amount_Term  Credit_History  ...  \\\n",
       "0                  0       128.0             360.0        1.000000  ...   \n",
       "1               1508       128.0             360.0        1.000000  ...   \n",
       "2                  0        66.0             360.0        1.000000  ...   \n",
       "3               2358       120.0             360.0        0.833333  ...   \n",
       "4                  0       141.0             360.0        1.000000  ...   \n",
       "\n",
       "  Loan_Status  Gender_Male  Gender_Unknown  Education_Encoded  \\\n",
       "0           1         True           False                  1   \n",
       "1           1         True           False                  1   \n",
       "2           0         True           False                  1   \n",
       "3           1        False           False                  1   \n",
       "4           1         True           False                  1   \n",
       "\n",
       "   Property_Area_freq  ApplicantIncome_scaled  LoanAmount_scaled  \\\n",
       "0                   3                0.974833          -0.178055   \n",
       "1                   3                0.763833          -0.178055   \n",
       "2                   3                0.500000          -1.295969   \n",
       "3                   2                0.430500          -0.322302   \n",
       "4                   3                1.000000           0.056346   \n",
       "\n",
       "   ApplicantIncome_norm  LoanAmount_norm  CoapplicantIncome_norm  \n",
       "0              0.958822         0.308458               -0.631447  \n",
       "1              0.613581         0.308458               -0.001670  \n",
       "2              0.181893         0.000000               -0.631447  \n",
       "3              0.068176         0.268657                0.353310  \n",
       "4              1.000000         0.373134               -0.631447  \n",
       "\n",
       "[5 rows x 21 columns]"
      ]
     },
     "execution_count": 62,
     "metadata": {},
     "output_type": "execute_result"
    }
   ],
   "source": [
    "encoded_df.head()"
   ]
  },
  {
   "cell_type": "code",
   "execution_count": null,
   "id": "a45021d4-3ef4-4cb8-95f8-d762fc65fed2",
   "metadata": {},
   "outputs": [],
   "source": []
  }
 ],
 "metadata": {
  "kernelspec": {
   "display_name": "Python 3 (ipykernel)",
   "language": "python",
   "name": "python3"
  },
  "language_info": {
   "codemirror_mode": {
    "name": "ipython",
    "version": 3
   },
   "file_extension": ".py",
   "mimetype": "text/x-python",
   "name": "python",
   "nbconvert_exporter": "python",
   "pygments_lexer": "ipython3",
   "version": "3.13.3"
  }
 },
 "nbformat": 4,
 "nbformat_minor": 5
}
